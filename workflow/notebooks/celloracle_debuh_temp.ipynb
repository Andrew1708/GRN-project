{
 "cells": [
  {
   "cell_type": "code",
   "execution_count": 1,
   "id": "86287fd3",
   "metadata": {},
   "outputs": [],
   "source": [
    "import argparse\n",
    "import os\n",
    "import sys\n",
    "from pathlib import Path\n",
    "\n",
    "import matplotlib.pyplot as plt\n",
    "import numpy as np\n",
    "import pandas as pd\n",
    "import scanpy as sc\n",
    "import seaborn as sns\n",
    "import celloracle as co\n",
    "import mudata as mu\n",
    "from types import SimpleNamespace\n",
    "\n",
    "\n",
    "def parse_args():\n",
    "    return SimpleNamespace(\n",
    "        input=\"/data/tmpA/andrem/celloracle/preprocessed_obj/AML12_DX/rna_preprocessed.h5ad\",\n",
    "        base_grn=\"/data/tmpA/andrem/celloracle/preprocessed_obj/AML12_DX/base_GRN_dataframe.parquet\",\n",
    "        use_atac=True,\n",
    "        output=\"/data/tmpA/andrem/celloracle/out/AML12_DX_with_atac/mdata.h5mu\",\n",
    "        downsample=30000\n",
    "    )\n",
    "\n",
    "def flatten_links_object(links_obj):\n",
    "    \"\"\"Convert CellOracle Links object to a flat DataFrame with cluster labels.\"\"\"\n",
    "    records = []\n",
    "    for cluster_name, df in links_obj.links_dict.items():\n",
    "        df = df.copy()\n",
    "        df[\"cluster\"] = cluster_name\n",
    "        records.append(df)\n",
    "    return pd.concat(records, ignore_index=True)\n",
    "\n",
    "\n",
    "def expand_links_with_CREs(links, base_GRN):\n",
    "    # Prepare base_GRN in long format: one row per (TF, gene)\n",
    "    tf_columns = [col for col in base_GRN.columns if col not in [\"gene_short_name\", \"chromosome\", \"start\", \"end\"]]\n",
    "\n",
    "    melted = base_GRN.melt(\n",
    "        id_vars=[\"gene_short_name\", \"chromosome\", \"start\", \"end\"],\n",
    "        value_vars=tf_columns,\n",
    "        var_name=\"source\",\n",
    "        value_name=\"score\"\n",
    "    )\n",
    "    \n",
    "    # Filter non-zero scores (active TF-gene interactions)\n",
    "    melted = melted[melted[\"score\"] != 0]\n",
    "\n",
    "    # Merge links with base_GRN annotations\n",
    "    annotated = pd.merge(\n",
    "        links,\n",
    "        melted,\n",
    "        how=\"left\",\n",
    "        left_on=[\"source\", \"target\"],\n",
    "        right_on=[\"source\", \"gene_short_name\"]\n",
    "    )\n",
    "\n",
    "    # Drop extra column\n",
    "    annotated = annotated.drop(columns=[\"score\", \"gene_short_name\"])\n",
    "\n",
    "    # For rows with no CRE info, fill NaNs as before\n",
    "    for col in [\"chromosome\", \"start\", \"end\"]:\n",
    "        if col not in annotated.columns:\n",
    "            annotated[col] = np.nan\n",
    "\n",
    "    return annotated"
   ]
  },
  {
   "cell_type": "code",
   "execution_count": 2,
   "id": "d42c087f",
   "metadata": {},
   "outputs": [],
   "source": [
    "args = parse_args()\n",
    "\n",
    "# Load scRNA-seq data\n",
    "adata = sc.read_h5ad(args.input)\n",
    "\n",
    "# Downsample cells if needed\n",
    "if adata.shape[0] > args.downsample:\n",
    "    sc.pp.subsample(adata, n_obs=args.downsample, random_state=123)\n"
   ]
  },
  {
   "cell_type": "code",
   "execution_count": 2,
   "id": "3e1a3840",
   "metadata": {},
   "outputs": [
    {
     "name": "stdout",
     "output_type": "stream",
     "text": [
      "Loading prebuilt promoter base-GRN. Version: hg38_gimmemotifsv5_fpr2\n"
     ]
    }
   ],
   "source": [
    "base_GRN = co.data.load_human_promoter_base_GRN(version=\"hg38_gimmemotifsv5_fpr2\")"
   ]
  },
  {
   "cell_type": "code",
   "execution_count": 3,
   "id": "2766e1fa",
   "metadata": {},
   "outputs": [
    {
     "data": {
      "text/html": [
       "<div>\n",
       "<style scoped>\n",
       "    .dataframe tbody tr th:only-of-type {\n",
       "        vertical-align: middle;\n",
       "    }\n",
       "\n",
       "    .dataframe tbody tr th {\n",
       "        vertical-align: top;\n",
       "    }\n",
       "\n",
       "    .dataframe thead th {\n",
       "        text-align: right;\n",
       "    }\n",
       "</style>\n",
       "<table border=\"1\" class=\"dataframe\">\n",
       "  <thead>\n",
       "    <tr style=\"text-align: right;\">\n",
       "      <th></th>\n",
       "      <th>peak_id</th>\n",
       "      <th>gene_short_name</th>\n",
       "      <th>9430076C15RIK</th>\n",
       "      <th>AC002126.6</th>\n",
       "      <th>AC012531.1</th>\n",
       "      <th>AC226150.2</th>\n",
       "      <th>AFP</th>\n",
       "      <th>AHR</th>\n",
       "      <th>AHRR</th>\n",
       "      <th>AIRE</th>\n",
       "      <th>...</th>\n",
       "      <th>ZNF784</th>\n",
       "      <th>ZNF8</th>\n",
       "      <th>ZNF816</th>\n",
       "      <th>ZNF85</th>\n",
       "      <th>ZSCAN10</th>\n",
       "      <th>ZSCAN16</th>\n",
       "      <th>ZSCAN22</th>\n",
       "      <th>ZSCAN26</th>\n",
       "      <th>ZSCAN31</th>\n",
       "      <th>ZSCAN4</th>\n",
       "    </tr>\n",
       "  </thead>\n",
       "  <tbody>\n",
       "    <tr>\n",
       "      <th>0</th>\n",
       "      <td>chr10_100009853_100010953</td>\n",
       "      <td>DNMBP</td>\n",
       "      <td>0.0</td>\n",
       "      <td>0.0</td>\n",
       "      <td>0.0</td>\n",
       "      <td>0.0</td>\n",
       "      <td>0.0</td>\n",
       "      <td>0.0</td>\n",
       "      <td>0.0</td>\n",
       "      <td>0.0</td>\n",
       "      <td>...</td>\n",
       "      <td>0.0</td>\n",
       "      <td>0.0</td>\n",
       "      <td>0.0</td>\n",
       "      <td>0.0</td>\n",
       "      <td>0.0</td>\n",
       "      <td>0.0</td>\n",
       "      <td>0.0</td>\n",
       "      <td>0.0</td>\n",
       "      <td>0.0</td>\n",
       "      <td>0.0</td>\n",
       "    </tr>\n",
       "    <tr>\n",
       "      <th>1</th>\n",
       "      <td>chr10_100081785_100082885</td>\n",
       "      <td>CPN1</td>\n",
       "      <td>0.0</td>\n",
       "      <td>0.0</td>\n",
       "      <td>0.0</td>\n",
       "      <td>0.0</td>\n",
       "      <td>0.0</td>\n",
       "      <td>0.0</td>\n",
       "      <td>0.0</td>\n",
       "      <td>1.0</td>\n",
       "      <td>...</td>\n",
       "      <td>0.0</td>\n",
       "      <td>0.0</td>\n",
       "      <td>0.0</td>\n",
       "      <td>0.0</td>\n",
       "      <td>0.0</td>\n",
       "      <td>0.0</td>\n",
       "      <td>1.0</td>\n",
       "      <td>0.0</td>\n",
       "      <td>0.0</td>\n",
       "      <td>0.0</td>\n",
       "    </tr>\n",
       "    <tr>\n",
       "      <th>2</th>\n",
       "      <td>chr10_100185877_100186977</td>\n",
       "      <td>ERLIN1</td>\n",
       "      <td>0.0</td>\n",
       "      <td>1.0</td>\n",
       "      <td>0.0</td>\n",
       "      <td>0.0</td>\n",
       "      <td>0.0</td>\n",
       "      <td>0.0</td>\n",
       "      <td>0.0</td>\n",
       "      <td>0.0</td>\n",
       "      <td>...</td>\n",
       "      <td>0.0</td>\n",
       "      <td>0.0</td>\n",
       "      <td>0.0</td>\n",
       "      <td>0.0</td>\n",
       "      <td>0.0</td>\n",
       "      <td>0.0</td>\n",
       "      <td>0.0</td>\n",
       "      <td>0.0</td>\n",
       "      <td>0.0</td>\n",
       "      <td>0.0</td>\n",
       "    </tr>\n",
       "    <tr>\n",
       "      <th>3</th>\n",
       "      <td>chr10_100186978_100187057</td>\n",
       "      <td>ERLIN1</td>\n",
       "      <td>0.0</td>\n",
       "      <td>0.0</td>\n",
       "      <td>0.0</td>\n",
       "      <td>0.0</td>\n",
       "      <td>0.0</td>\n",
       "      <td>0.0</td>\n",
       "      <td>0.0</td>\n",
       "      <td>0.0</td>\n",
       "      <td>...</td>\n",
       "      <td>0.0</td>\n",
       "      <td>0.0</td>\n",
       "      <td>0.0</td>\n",
       "      <td>0.0</td>\n",
       "      <td>0.0</td>\n",
       "      <td>0.0</td>\n",
       "      <td>0.0</td>\n",
       "      <td>0.0</td>\n",
       "      <td>0.0</td>\n",
       "      <td>0.0</td>\n",
       "    </tr>\n",
       "    <tr>\n",
       "      <th>4</th>\n",
       "      <td>chr10_100229510_100230610</td>\n",
       "      <td>CHUK</td>\n",
       "      <td>0.0</td>\n",
       "      <td>0.0</td>\n",
       "      <td>0.0</td>\n",
       "      <td>0.0</td>\n",
       "      <td>0.0</td>\n",
       "      <td>1.0</td>\n",
       "      <td>1.0</td>\n",
       "      <td>0.0</td>\n",
       "      <td>...</td>\n",
       "      <td>0.0</td>\n",
       "      <td>0.0</td>\n",
       "      <td>0.0</td>\n",
       "      <td>0.0</td>\n",
       "      <td>0.0</td>\n",
       "      <td>0.0</td>\n",
       "      <td>0.0</td>\n",
       "      <td>0.0</td>\n",
       "      <td>0.0</td>\n",
       "      <td>0.0</td>\n",
       "    </tr>\n",
       "    <tr>\n",
       "      <th>...</th>\n",
       "      <td>...</td>\n",
       "      <td>...</td>\n",
       "      <td>...</td>\n",
       "      <td>...</td>\n",
       "      <td>...</td>\n",
       "      <td>...</td>\n",
       "      <td>...</td>\n",
       "      <td>...</td>\n",
       "      <td>...</td>\n",
       "      <td>...</td>\n",
       "      <td>...</td>\n",
       "      <td>...</td>\n",
       "      <td>...</td>\n",
       "      <td>...</td>\n",
       "      <td>...</td>\n",
       "      <td>...</td>\n",
       "      <td>...</td>\n",
       "      <td>...</td>\n",
       "      <td>...</td>\n",
       "      <td>...</td>\n",
       "      <td>...</td>\n",
       "    </tr>\n",
       "    <tr>\n",
       "      <th>39310</th>\n",
       "      <td>chrY_9721196_9722296</td>\n",
       "      <td>TTTY21B</td>\n",
       "      <td>0.0</td>\n",
       "      <td>0.0</td>\n",
       "      <td>0.0</td>\n",
       "      <td>0.0</td>\n",
       "      <td>0.0</td>\n",
       "      <td>0.0</td>\n",
       "      <td>0.0</td>\n",
       "      <td>0.0</td>\n",
       "      <td>...</td>\n",
       "      <td>0.0</td>\n",
       "      <td>0.0</td>\n",
       "      <td>0.0</td>\n",
       "      <td>0.0</td>\n",
       "      <td>0.0</td>\n",
       "      <td>0.0</td>\n",
       "      <td>0.0</td>\n",
       "      <td>0.0</td>\n",
       "      <td>0.0</td>\n",
       "      <td>0.0</td>\n",
       "    </tr>\n",
       "    <tr>\n",
       "      <th>39311</th>\n",
       "      <td>chrY_9735286_9736386</td>\n",
       "      <td>TTTY2</td>\n",
       "      <td>0.0</td>\n",
       "      <td>0.0</td>\n",
       "      <td>0.0</td>\n",
       "      <td>0.0</td>\n",
       "      <td>0.0</td>\n",
       "      <td>0.0</td>\n",
       "      <td>0.0</td>\n",
       "      <td>0.0</td>\n",
       "      <td>...</td>\n",
       "      <td>0.0</td>\n",
       "      <td>0.0</td>\n",
       "      <td>0.0</td>\n",
       "      <td>0.0</td>\n",
       "      <td>0.0</td>\n",
       "      <td>0.0</td>\n",
       "      <td>1.0</td>\n",
       "      <td>0.0</td>\n",
       "      <td>0.0</td>\n",
       "      <td>0.0</td>\n",
       "    </tr>\n",
       "    <tr>\n",
       "      <th>39312</th>\n",
       "      <td>chrY_9774219_9775319</td>\n",
       "      <td>TTTY1B</td>\n",
       "      <td>0.0</td>\n",
       "      <td>0.0</td>\n",
       "      <td>0.0</td>\n",
       "      <td>0.0</td>\n",
       "      <td>0.0</td>\n",
       "      <td>0.0</td>\n",
       "      <td>0.0</td>\n",
       "      <td>1.0</td>\n",
       "      <td>...</td>\n",
       "      <td>0.0</td>\n",
       "      <td>0.0</td>\n",
       "      <td>0.0</td>\n",
       "      <td>0.0</td>\n",
       "      <td>0.0</td>\n",
       "      <td>0.0</td>\n",
       "      <td>0.0</td>\n",
       "      <td>0.0</td>\n",
       "      <td>0.0</td>\n",
       "      <td>0.0</td>\n",
       "    </tr>\n",
       "    <tr>\n",
       "      <th>39313</th>\n",
       "      <td>chrY_9800153_9801253</td>\n",
       "      <td>TTTY22</td>\n",
       "      <td>0.0</td>\n",
       "      <td>0.0</td>\n",
       "      <td>0.0</td>\n",
       "      <td>0.0</td>\n",
       "      <td>0.0</td>\n",
       "      <td>0.0</td>\n",
       "      <td>0.0</td>\n",
       "      <td>0.0</td>\n",
       "      <td>...</td>\n",
       "      <td>0.0</td>\n",
       "      <td>0.0</td>\n",
       "      <td>0.0</td>\n",
       "      <td>0.0</td>\n",
       "      <td>0.0</td>\n",
       "      <td>0.0</td>\n",
       "      <td>0.0</td>\n",
       "      <td>0.0</td>\n",
       "      <td>0.0</td>\n",
       "      <td>0.0</td>\n",
       "    </tr>\n",
       "    <tr>\n",
       "      <th>39314</th>\n",
       "      <td>chrY_9909798_9910898</td>\n",
       "      <td>TTTY23B</td>\n",
       "      <td>0.0</td>\n",
       "      <td>0.0</td>\n",
       "      <td>0.0</td>\n",
       "      <td>0.0</td>\n",
       "      <td>0.0</td>\n",
       "      <td>0.0</td>\n",
       "      <td>0.0</td>\n",
       "      <td>0.0</td>\n",
       "      <td>...</td>\n",
       "      <td>0.0</td>\n",
       "      <td>0.0</td>\n",
       "      <td>0.0</td>\n",
       "      <td>0.0</td>\n",
       "      <td>0.0</td>\n",
       "      <td>0.0</td>\n",
       "      <td>0.0</td>\n",
       "      <td>0.0</td>\n",
       "      <td>1.0</td>\n",
       "      <td>0.0</td>\n",
       "    </tr>\n",
       "  </tbody>\n",
       "</table>\n",
       "<p>39315 rows × 1096 columns</p>\n",
       "</div>"
      ],
      "text/plain": [
       "                         peak_id gene_short_name  9430076C15RIK  AC002126.6  \\\n",
       "0      chr10_100009853_100010953           DNMBP            0.0         0.0   \n",
       "1      chr10_100081785_100082885            CPN1            0.0         0.0   \n",
       "2      chr10_100185877_100186977          ERLIN1            0.0         1.0   \n",
       "3      chr10_100186978_100187057          ERLIN1            0.0         0.0   \n",
       "4      chr10_100229510_100230610            CHUK            0.0         0.0   \n",
       "...                          ...             ...            ...         ...   \n",
       "39310       chrY_9721196_9722296         TTTY21B            0.0         0.0   \n",
       "39311       chrY_9735286_9736386           TTTY2            0.0         0.0   \n",
       "39312       chrY_9774219_9775319          TTTY1B            0.0         0.0   \n",
       "39313       chrY_9800153_9801253          TTTY22            0.0         0.0   \n",
       "39314       chrY_9909798_9910898         TTTY23B            0.0         0.0   \n",
       "\n",
       "       AC012531.1  AC226150.2  AFP  AHR  AHRR  AIRE  ...  ZNF784  ZNF8  \\\n",
       "0             0.0         0.0  0.0  0.0   0.0   0.0  ...     0.0   0.0   \n",
       "1             0.0         0.0  0.0  0.0   0.0   1.0  ...     0.0   0.0   \n",
       "2             0.0         0.0  0.0  0.0   0.0   0.0  ...     0.0   0.0   \n",
       "3             0.0         0.0  0.0  0.0   0.0   0.0  ...     0.0   0.0   \n",
       "4             0.0         0.0  0.0  1.0   1.0   0.0  ...     0.0   0.0   \n",
       "...           ...         ...  ...  ...   ...   ...  ...     ...   ...   \n",
       "39310         0.0         0.0  0.0  0.0   0.0   0.0  ...     0.0   0.0   \n",
       "39311         0.0         0.0  0.0  0.0   0.0   0.0  ...     0.0   0.0   \n",
       "39312         0.0         0.0  0.0  0.0   0.0   1.0  ...     0.0   0.0   \n",
       "39313         0.0         0.0  0.0  0.0   0.0   0.0  ...     0.0   0.0   \n",
       "39314         0.0         0.0  0.0  0.0   0.0   0.0  ...     0.0   0.0   \n",
       "\n",
       "       ZNF816  ZNF85  ZSCAN10  ZSCAN16  ZSCAN22  ZSCAN26  ZSCAN31  ZSCAN4  \n",
       "0         0.0    0.0      0.0      0.0      0.0      0.0      0.0     0.0  \n",
       "1         0.0    0.0      0.0      0.0      1.0      0.0      0.0     0.0  \n",
       "2         0.0    0.0      0.0      0.0      0.0      0.0      0.0     0.0  \n",
       "3         0.0    0.0      0.0      0.0      0.0      0.0      0.0     0.0  \n",
       "4         0.0    0.0      0.0      0.0      0.0      0.0      0.0     0.0  \n",
       "...       ...    ...      ...      ...      ...      ...      ...     ...  \n",
       "39310     0.0    0.0      0.0      0.0      0.0      0.0      0.0     0.0  \n",
       "39311     0.0    0.0      0.0      0.0      1.0      0.0      0.0     0.0  \n",
       "39312     0.0    0.0      0.0      0.0      0.0      0.0      0.0     0.0  \n",
       "39313     0.0    0.0      0.0      0.0      0.0      0.0      0.0     0.0  \n",
       "39314     0.0    0.0      0.0      0.0      0.0      0.0      1.0     0.0  \n",
       "\n",
       "[39315 rows x 1096 columns]"
      ]
     },
     "execution_count": 3,
     "metadata": {},
     "output_type": "execute_result"
    }
   ],
   "source": [
    "base_GRN"
   ]
  },
  {
   "cell_type": "code",
   "execution_count": 3,
   "id": "b78f4ba9",
   "metadata": {},
   "outputs": [
    {
     "name": "stdout",
     "output_type": "stream",
     "text": [
      "Loading base GRN from /data/tmpA/andrem/celloracle/preprocessed_obj/AML12_DX/base_GRN_dataframe.parquet\n"
     ]
    }
   ],
   "source": [
    "\n",
    "# Load base GRN\n",
    "if args.use_atac:\n",
    "    if args.base_grn is None:\n",
    "        raise ValueError(\"Please provide --base_grn when using --use_atac\")\n",
    "    print(f\"Loading base GRN from {args.base_grn}\")\n",
    "    base_GRN = pd.read_parquet(args.base_grn)\n",
    "else:\n",
    "    print(\"Using default base GRN for human promoter data.\")\n",
    "    base_GRN = co.data.load_human_promoter_base_GRN(version=\"hg38_gimmemotifsv5_fpr2\")\n",
    "\n",
    "if \"peak_id\" in base_GRN.columns:\n",
    "    peak_coords = base_GRN[\"peak_id\"].str.split(\"_\", expand=True)\n",
    "\n",
    "    # Then validate that 'start' and 'end' columns are numeric\n",
    "    is_numeric_start = peak_coords[1].str.isnumeric()\n",
    "    is_numeric_end = peak_coords[2].str.isnumeric()\n",
    "    valid_rows = is_numeric_start & is_numeric_end\n",
    "\n",
    "    if not valid_rows.any():\n",
    "        raise ValueError(\"No valid 'peak_id' entries with numeric coordinates found.\")\n",
    "\n",
    "    peak_coords = peak_coords[valid_rows]\n",
    "    base_GRN = base_GRN.loc[valid_rows].copy()\n",
    "    base_GRN[\"chromosome\"] = peak_coords[0].values\n",
    "    base_GRN[\"start\"] = peak_coords[1].astype(int).values\n",
    "    base_GRN[\"end\"] = peak_coords[2].astype(int).values\n",
    "else:\n",
    "    raise ValueError(\"Expected 'peak_id' column in base_GRN, but it was not found.\")\n",
    "\n"
   ]
  },
  {
   "cell_type": "code",
   "execution_count": 5,
   "id": "4e913d5a",
   "metadata": {},
   "outputs": [
    {
     "name": "stdout",
     "output_type": "stream",
     "text": [
      "Metadata columns : ['patient', 'dx', 'sample', 'batch', 'GEO_ID', 'Lambo_et_al_ID', 'Patient_Sample', 'Library_ID', 'Counts', 'Features', 'Mitochondria_percent', 'Classified_Celltype', 'Seurat_Cluster', 'Malignant', 'Patient_ID', 'Biopsy_Origin', 'Age_Months', 'Disease_free_days', 'Clinical_Blast_Percent', 'Expected_Driving_Aberration', 'Subgroup', 'Color_Subgroup', 'Known_CNVs', 'Treatment_Outcome', 'nCount_RNA', 'nFeature_RNA', 'doublet', 'doublet_score', 'n_counts_all', 'n_counts', 'louvain']\n",
      "Dimensional reduction:  ['X_diffmap', 'X_draw_graph_fa', 'X_pca']\n",
      "WARNING: adata.X seems to be already log-transformed.\n"
     ]
    }
   ],
   "source": [
    "# Instantiate Oracle\n",
    "oracle = co.Oracle()\n",
    "adata.X = adata.layers[\"raw_count\"].copy()\n",
    "print(\"Metadata columns :\", list(adata.obs.columns))\n",
    "print(\"Dimensional reduction: \", list(adata.obsm.keys()))\n",
    "\n",
    "oracle.import_anndata_as_raw_count(\n",
    "    adata=adata,\n",
    "    cluster_column_name=\"louvain\",\n",
    "    embedding_name=\"X_draw_graph_fa\"\n",
    ")\n",
    "\n",
    "oracle.import_TF_data(TF_info_matrix=base_GRN)\n",
    "\n",
    "oracle.perform_PCA()\n"
   ]
  },
  {
   "cell_type": "code",
   "execution_count": 6,
   "id": "a490b229",
   "metadata": {},
   "outputs": [
    {
     "name": "stdout",
     "output_type": "stream",
     "text": [
      "Cell number: 6826\n",
      "Auto-selected k: 170\n"
     ]
    }
   ],
   "source": [
    "\n",
    "# Estimate number of PCs\n",
    "plt.plot(np.cumsum(oracle.pca.explained_variance_ratio_)[:100])\n",
    "diffs = np.diff(np.diff(np.cumsum(oracle.pca.explained_variance_ratio_)) > 0.002)\n",
    "n_comps = np.where(diffs)[0][0] if np.any(diffs) else 30\n",
    "n_comps = min(n_comps, 50)\n",
    "\n",
    "n_cell = oracle.adata.shape[0]\n",
    "print(f\"Cell number: {n_cell}\")\n",
    "k = int(0.025 * n_cell)\n",
    "print(f\"Auto-selected k: {k}\")\n"
   ]
  },
  {
   "cell_type": "code",
   "execution_count": 7,
   "id": "4dd3a4fd",
   "metadata": {},
   "outputs": [],
   "source": [
    "\n",
    "oracle.knn_imputation(\n",
    "    n_pca_dims=n_comps,\n",
    "    k=k,\n",
    "    balanced=True,\n",
    "    b_sight=k * 8,\n",
    "    b_maxl=k * 4,\n",
    "    n_jobs=4\n",
    ")\n"
   ]
  },
  {
   "cell_type": "code",
   "execution_count": 8,
   "id": "60b142ba",
   "metadata": {},
   "outputs": [
    {
     "name": "stdout",
     "output_type": "stream",
     "text": [
      "Inferring GRNs...\n"
     ]
    },
    {
     "data": {
      "application/vnd.jupyter.widget-view+json": {
       "model_id": "d3b5bdae1fc34dc5a29681801e261e0e",
       "version_major": 2,
       "version_minor": 0
      },
      "text/plain": [
       "  0%|          | 0/32 [00:00<?, ?it/s]"
      ]
     },
     "metadata": {},
     "output_type": "display_data"
    },
    {
     "name": "stdout",
     "output_type": "stream",
     "text": [
      "Inferring GRN for 0...\n"
     ]
    },
    {
     "data": {
      "application/vnd.jupyter.widget-view+json": {
       "model_id": "8da937a568ad43c7823861b025ff2be3",
       "version_major": 2,
       "version_minor": 0
      },
      "text/plain": [
       "  0%|          | 0/1328 [00:00<?, ?it/s]"
      ]
     },
     "metadata": {},
     "output_type": "display_data"
    },
    {
     "name": "stdout",
     "output_type": "stream",
     "text": [
      "Inferring GRN for 1...\n"
     ]
    },
    {
     "data": {
      "application/vnd.jupyter.widget-view+json": {
       "model_id": "53e63a028306471f971d40cf8655a094",
       "version_major": 2,
       "version_minor": 0
      },
      "text/plain": [
       "  0%|          | 0/1328 [00:00<?, ?it/s]"
      ]
     },
     "metadata": {},
     "output_type": "display_data"
    },
    {
     "name": "stdout",
     "output_type": "stream",
     "text": [
      "Inferring GRN for 10...\n"
     ]
    },
    {
     "data": {
      "application/vnd.jupyter.widget-view+json": {
       "model_id": "60e75bcef1fb406aa5cd022759544451",
       "version_major": 2,
       "version_minor": 0
      },
      "text/plain": [
       "  0%|          | 0/1328 [00:00<?, ?it/s]"
      ]
     },
     "metadata": {},
     "output_type": "display_data"
    },
    {
     "name": "stdout",
     "output_type": "stream",
     "text": [
      "Inferring GRN for 11...\n"
     ]
    },
    {
     "data": {
      "application/vnd.jupyter.widget-view+json": {
       "model_id": "4612fea3ddef4cbc8848d7c50be45e72",
       "version_major": 2,
       "version_minor": 0
      },
      "text/plain": [
       "  0%|          | 0/1328 [00:00<?, ?it/s]"
      ]
     },
     "metadata": {},
     "output_type": "display_data"
    },
    {
     "name": "stdout",
     "output_type": "stream",
     "text": [
      "Inferring GRN for 12...\n"
     ]
    },
    {
     "data": {
      "application/vnd.jupyter.widget-view+json": {
       "model_id": "ab361e9fef214f6b86ebb9df625ec202",
       "version_major": 2,
       "version_minor": 0
      },
      "text/plain": [
       "  0%|          | 0/1328 [00:00<?, ?it/s]"
      ]
     },
     "metadata": {},
     "output_type": "display_data"
    },
    {
     "name": "stdout",
     "output_type": "stream",
     "text": [
      "Inferring GRN for 13...\n"
     ]
    },
    {
     "data": {
      "application/vnd.jupyter.widget-view+json": {
       "model_id": "76caa783b92448bfa6f70bdd87a0405f",
       "version_major": 2,
       "version_minor": 0
      },
      "text/plain": [
       "  0%|          | 0/1328 [00:00<?, ?it/s]"
      ]
     },
     "metadata": {},
     "output_type": "display_data"
    },
    {
     "name": "stdout",
     "output_type": "stream",
     "text": [
      "Inferring GRN for 14...\n"
     ]
    },
    {
     "data": {
      "application/vnd.jupyter.widget-view+json": {
       "model_id": "c2080f933b73433398df9c7fb4f1031e",
       "version_major": 2,
       "version_minor": 0
      },
      "text/plain": [
       "  0%|          | 0/1328 [00:00<?, ?it/s]"
      ]
     },
     "metadata": {},
     "output_type": "display_data"
    },
    {
     "name": "stdout",
     "output_type": "stream",
     "text": [
      "Inferring GRN for 15...\n"
     ]
    },
    {
     "data": {
      "application/vnd.jupyter.widget-view+json": {
       "model_id": "6bd14676153648119b199f63e36958d7",
       "version_major": 2,
       "version_minor": 0
      },
      "text/plain": [
       "  0%|          | 0/1328 [00:00<?, ?it/s]"
      ]
     },
     "metadata": {},
     "output_type": "display_data"
    },
    {
     "name": "stdout",
     "output_type": "stream",
     "text": [
      "Inferring GRN for 16...\n"
     ]
    },
    {
     "data": {
      "application/vnd.jupyter.widget-view+json": {
       "model_id": "6055493eefa1405784b3d3fcae92fccc",
       "version_major": 2,
       "version_minor": 0
      },
      "text/plain": [
       "  0%|          | 0/1328 [00:00<?, ?it/s]"
      ]
     },
     "metadata": {},
     "output_type": "display_data"
    },
    {
     "name": "stdout",
     "output_type": "stream",
     "text": [
      "Inferring GRN for 17...\n"
     ]
    },
    {
     "data": {
      "application/vnd.jupyter.widget-view+json": {
       "model_id": "83564c024d0e4b5d9ce886482257dbf7",
       "version_major": 2,
       "version_minor": 0
      },
      "text/plain": [
       "  0%|          | 0/1328 [00:00<?, ?it/s]"
      ]
     },
     "metadata": {},
     "output_type": "display_data"
    },
    {
     "name": "stdout",
     "output_type": "stream",
     "text": [
      "Inferring GRN for 18...\n"
     ]
    },
    {
     "data": {
      "application/vnd.jupyter.widget-view+json": {
       "model_id": "057d3b88939e47e297deeaf2c2e7e740",
       "version_major": 2,
       "version_minor": 0
      },
      "text/plain": [
       "  0%|          | 0/1328 [00:00<?, ?it/s]"
      ]
     },
     "metadata": {},
     "output_type": "display_data"
    },
    {
     "name": "stdout",
     "output_type": "stream",
     "text": [
      "Inferring GRN for 19...\n"
     ]
    },
    {
     "data": {
      "application/vnd.jupyter.widget-view+json": {
       "model_id": "dd15b574259d4027b63dab58347e03d8",
       "version_major": 2,
       "version_minor": 0
      },
      "text/plain": [
       "  0%|          | 0/1328 [00:00<?, ?it/s]"
      ]
     },
     "metadata": {},
     "output_type": "display_data"
    },
    {
     "name": "stdout",
     "output_type": "stream",
     "text": [
      "Inferring GRN for 2...\n"
     ]
    },
    {
     "data": {
      "application/vnd.jupyter.widget-view+json": {
       "model_id": "3ac7f60c15a04053a3761f11a6129ab2",
       "version_major": 2,
       "version_minor": 0
      },
      "text/plain": [
       "  0%|          | 0/1328 [00:00<?, ?it/s]"
      ]
     },
     "metadata": {},
     "output_type": "display_data"
    },
    {
     "name": "stdout",
     "output_type": "stream",
     "text": [
      "Inferring GRN for 20...\n"
     ]
    },
    {
     "data": {
      "application/vnd.jupyter.widget-view+json": {
       "model_id": "7a688bf1ff5e4869bc2f31bd7e7351f9",
       "version_major": 2,
       "version_minor": 0
      },
      "text/plain": [
       "  0%|          | 0/1328 [00:00<?, ?it/s]"
      ]
     },
     "metadata": {},
     "output_type": "display_data"
    },
    {
     "name": "stdout",
     "output_type": "stream",
     "text": [
      "Inferring GRN for 21...\n"
     ]
    },
    {
     "data": {
      "application/vnd.jupyter.widget-view+json": {
       "model_id": "8103abd360bf4159896e639479563f33",
       "version_major": 2,
       "version_minor": 0
      },
      "text/plain": [
       "  0%|          | 0/1328 [00:00<?, ?it/s]"
      ]
     },
     "metadata": {},
     "output_type": "display_data"
    },
    {
     "name": "stdout",
     "output_type": "stream",
     "text": [
      "Inferring GRN for 22...\n"
     ]
    },
    {
     "data": {
      "application/vnd.jupyter.widget-view+json": {
       "model_id": "fc1093ac31934962ad4af21c2391207a",
       "version_major": 2,
       "version_minor": 0
      },
      "text/plain": [
       "  0%|          | 0/1328 [00:00<?, ?it/s]"
      ]
     },
     "metadata": {},
     "output_type": "display_data"
    },
    {
     "name": "stdout",
     "output_type": "stream",
     "text": [
      "Inferring GRN for 23...\n"
     ]
    },
    {
     "data": {
      "application/vnd.jupyter.widget-view+json": {
       "model_id": "f2f58c78bb7f45cdbf1d34abe24b9b99",
       "version_major": 2,
       "version_minor": 0
      },
      "text/plain": [
       "  0%|          | 0/1328 [00:00<?, ?it/s]"
      ]
     },
     "metadata": {},
     "output_type": "display_data"
    },
    {
     "name": "stdout",
     "output_type": "stream",
     "text": [
      "Inferring GRN for 24...\n"
     ]
    },
    {
     "data": {
      "application/vnd.jupyter.widget-view+json": {
       "model_id": "5f0879333df849ca88154caa85124484",
       "version_major": 2,
       "version_minor": 0
      },
      "text/plain": [
       "  0%|          | 0/1328 [00:00<?, ?it/s]"
      ]
     },
     "metadata": {},
     "output_type": "display_data"
    },
    {
     "name": "stdout",
     "output_type": "stream",
     "text": [
      "Inferring GRN for 25...\n"
     ]
    },
    {
     "data": {
      "application/vnd.jupyter.widget-view+json": {
       "model_id": "34bd700be7dd4e77a9c1d81c6da008bd",
       "version_major": 2,
       "version_minor": 0
      },
      "text/plain": [
       "  0%|          | 0/1328 [00:00<?, ?it/s]"
      ]
     },
     "metadata": {},
     "output_type": "display_data"
    },
    {
     "name": "stdout",
     "output_type": "stream",
     "text": [
      "Inferring GRN for 26...\n"
     ]
    },
    {
     "data": {
      "application/vnd.jupyter.widget-view+json": {
       "model_id": "5ab8b47cc8cc4261acecc61483541994",
       "version_major": 2,
       "version_minor": 0
      },
      "text/plain": [
       "  0%|          | 0/1328 [00:00<?, ?it/s]"
      ]
     },
     "metadata": {},
     "output_type": "display_data"
    },
    {
     "name": "stdout",
     "output_type": "stream",
     "text": [
      "Inferring GRN for 27...\n"
     ]
    },
    {
     "data": {
      "application/vnd.jupyter.widget-view+json": {
       "model_id": "ebecc75fadee4ebebea68cbbb66dfdb1",
       "version_major": 2,
       "version_minor": 0
      },
      "text/plain": [
       "  0%|          | 0/1328 [00:00<?, ?it/s]"
      ]
     },
     "metadata": {},
     "output_type": "display_data"
    },
    {
     "name": "stdout",
     "output_type": "stream",
     "text": [
      "Inferring GRN for 28...\n"
     ]
    },
    {
     "data": {
      "application/vnd.jupyter.widget-view+json": {
       "model_id": "5ba3328482f64489bb6c39f04bd60b1c",
       "version_major": 2,
       "version_minor": 0
      },
      "text/plain": [
       "  0%|          | 0/1328 [00:00<?, ?it/s]"
      ]
     },
     "metadata": {},
     "output_type": "display_data"
    },
    {
     "name": "stdout",
     "output_type": "stream",
     "text": [
      "Inferring GRN for 29...\n"
     ]
    },
    {
     "data": {
      "application/vnd.jupyter.widget-view+json": {
       "model_id": "633bc0ff36cb4c8ca51505f22665045e",
       "version_major": 2,
       "version_minor": 0
      },
      "text/plain": [
       "  0%|          | 0/1328 [00:00<?, ?it/s]"
      ]
     },
     "metadata": {},
     "output_type": "display_data"
    },
    {
     "name": "stdout",
     "output_type": "stream",
     "text": [
      "Inferring GRN for 3...\n"
     ]
    },
    {
     "data": {
      "application/vnd.jupyter.widget-view+json": {
       "model_id": "66b5fb3da1aa4b81849c4f366df6a4ff",
       "version_major": 2,
       "version_minor": 0
      },
      "text/plain": [
       "  0%|          | 0/1328 [00:00<?, ?it/s]"
      ]
     },
     "metadata": {},
     "output_type": "display_data"
    },
    {
     "name": "stdout",
     "output_type": "stream",
     "text": [
      "Inferring GRN for 30...\n"
     ]
    },
    {
     "data": {
      "application/vnd.jupyter.widget-view+json": {
       "model_id": "c883b86abaa8458c9df63f8cd81873ef",
       "version_major": 2,
       "version_minor": 0
      },
      "text/plain": [
       "  0%|          | 0/1328 [00:00<?, ?it/s]"
      ]
     },
     "metadata": {},
     "output_type": "display_data"
    },
    {
     "name": "stdout",
     "output_type": "stream",
     "text": [
      "Inferring GRN for 31...\n"
     ]
    },
    {
     "data": {
      "application/vnd.jupyter.widget-view+json": {
       "model_id": "d02a0d8f09b141928d756baad9a5b53a",
       "version_major": 2,
       "version_minor": 0
      },
      "text/plain": [
       "  0%|          | 0/1328 [00:00<?, ?it/s]"
      ]
     },
     "metadata": {},
     "output_type": "display_data"
    },
    {
     "name": "stdout",
     "output_type": "stream",
     "text": [
      "Inferring GRN for 4...\n"
     ]
    },
    {
     "data": {
      "application/vnd.jupyter.widget-view+json": {
       "model_id": "b794c70e3c444e1f984a95de0bd20a9f",
       "version_major": 2,
       "version_minor": 0
      },
      "text/plain": [
       "  0%|          | 0/1328 [00:00<?, ?it/s]"
      ]
     },
     "metadata": {},
     "output_type": "display_data"
    },
    {
     "name": "stdout",
     "output_type": "stream",
     "text": [
      "Inferring GRN for 5...\n"
     ]
    },
    {
     "data": {
      "application/vnd.jupyter.widget-view+json": {
       "model_id": "c28431eb38e14c8aadbe5641afcdc53c",
       "version_major": 2,
       "version_minor": 0
      },
      "text/plain": [
       "  0%|          | 0/1328 [00:00<?, ?it/s]"
      ]
     },
     "metadata": {},
     "output_type": "display_data"
    },
    {
     "name": "stdout",
     "output_type": "stream",
     "text": [
      "Inferring GRN for 6...\n"
     ]
    },
    {
     "data": {
      "application/vnd.jupyter.widget-view+json": {
       "model_id": "bada76bb96ff436eadfc8c0c5936d174",
       "version_major": 2,
       "version_minor": 0
      },
      "text/plain": [
       "  0%|          | 0/1328 [00:00<?, ?it/s]"
      ]
     },
     "metadata": {},
     "output_type": "display_data"
    },
    {
     "name": "stdout",
     "output_type": "stream",
     "text": [
      "Inferring GRN for 7...\n"
     ]
    },
    {
     "data": {
      "application/vnd.jupyter.widget-view+json": {
       "model_id": "23c8ab0057094285b0bc086c6afc38a5",
       "version_major": 2,
       "version_minor": 0
      },
      "text/plain": [
       "  0%|          | 0/1328 [00:00<?, ?it/s]"
      ]
     },
     "metadata": {},
     "output_type": "display_data"
    },
    {
     "name": "stdout",
     "output_type": "stream",
     "text": [
      "Inferring GRN for 8...\n"
     ]
    },
    {
     "data": {
      "application/vnd.jupyter.widget-view+json": {
       "model_id": "33c34a087f354fd4b6ba06fbcc099d13",
       "version_major": 2,
       "version_minor": 0
      },
      "text/plain": [
       "  0%|          | 0/1328 [00:00<?, ?it/s]"
      ]
     },
     "metadata": {},
     "output_type": "display_data"
    },
    {
     "name": "stdout",
     "output_type": "stream",
     "text": [
      "Inferring GRN for 9...\n"
     ]
    },
    {
     "data": {
      "application/vnd.jupyter.widget-view+json": {
       "model_id": "050e0129dfdc4f8094690ca79b238660",
       "version_major": 2,
       "version_minor": 0
      },
      "text/plain": [
       "  0%|          | 0/1328 [00:00<?, ?it/s]"
      ]
     },
     "metadata": {},
     "output_type": "display_data"
    }
   ],
   "source": [
    "\n",
    "print(\"Inferring GRNs...\")\n",
    "raw_links = oracle.get_links(\n",
    "    cluster_name_for_GRN_unit=\"louvain\",\n",
    "    alpha=10,\n",
    "    verbose_level=10\n",
    ")\n"
   ]
  },
  {
   "cell_type": "code",
   "execution_count": 12,
   "id": "465384b2",
   "metadata": {},
   "outputs": [
    {
     "name": "stdout",
     "output_type": "stream",
     "text": [
      "Saving links to /data/tmpA/andrem/celloracle/out/AML12_DX/without_atac.h5mu\n"
     ]
    },
    {
     "ename": "FileNotFoundError",
     "evalue": "[Errno 2] Unable to synchronously create file (unable to open file: name = '/data/tmpA/andrem/celloracle/out/AML12_DX/links.celloracle.links', errno = 2, error message = 'No such file or directory', flags = 13, o_flags = 242)",
     "output_type": "error",
     "traceback": [
      "\u001b[0;31m---------------------------------------------------------------------------\u001b[0m",
      "\u001b[0;31mFileNotFoundError\u001b[0m                         Traceback (most recent call last)",
      "Cell \u001b[0;32mIn[12], line 4\u001b[0m\n\u001b[1;32m      2\u001b[0m link_output_path \u001b[38;5;241m=\u001b[39m Path(args\u001b[38;5;241m.\u001b[39moutput)\u001b[38;5;241m.\u001b[39mparent \u001b[38;5;241m/\u001b[39m \u001b[38;5;124m\"\u001b[39m\u001b[38;5;124mlinks.celloracle.links\u001b[39m\u001b[38;5;124m\"\u001b[39m\n\u001b[1;32m      3\u001b[0m \u001b[38;5;66;03m# Save Links object.\u001b[39;00m\n\u001b[0;32m----> 4\u001b[0m \u001b[43mraw_links\u001b[49m\u001b[38;5;241;43m.\u001b[39;49m\u001b[43mto_hdf5\u001b[49m\u001b[43m(\u001b[49m\u001b[43mfile_path\u001b[49m\u001b[38;5;241;43m=\u001b[39;49m\u001b[38;5;28;43mstr\u001b[39;49m\u001b[43m(\u001b[49m\u001b[43mlink_output_path\u001b[49m\u001b[43m)\u001b[49m\u001b[43m)\u001b[49m\n\u001b[1;32m      6\u001b[0m raw_links\u001b[38;5;241m.\u001b[39mto_hdf5(file_path\u001b[38;5;241m=\u001b[39mlink_output_path)\n",
      "File \u001b[0;32m~/miniconda3/envs/benchmark/lib/python3.10/site-packages/celloracle/network_analysis/links_object.py:106\u001b[0m, in \u001b[0;36mLinks.to_hdf5\u001b[0;34m(self, file_path)\u001b[0m\n\u001b[1;32m    103\u001b[0m     \u001b[38;5;28;01mraise\u001b[39;00m \u001b[38;5;167;01mValueError\u001b[39;00m(\u001b[38;5;124m\"\u001b[39m\u001b[38;5;124mFilename needs to end with \u001b[39m\u001b[38;5;124m'\u001b[39m\u001b[38;5;124m.celloracle.links\u001b[39m\u001b[38;5;124m'\u001b[39m\u001b[38;5;124m\"\u001b[39m)\n\u001b[1;32m    105\u001b[0m compression_opts \u001b[38;5;241m=\u001b[39m \u001b[38;5;241m7\u001b[39m\n\u001b[0;32m--> 106\u001b[0m \u001b[43mdump_hdf5\u001b[49m\u001b[43m(\u001b[49m\u001b[43mobj\u001b[49m\u001b[38;5;241;43m=\u001b[39;49m\u001b[38;5;28;43mself\u001b[39;49m\u001b[43m,\u001b[49m\u001b[43m \u001b[49m\u001b[43mfilename\u001b[49m\u001b[38;5;241;43m=\u001b[39;49m\u001b[43mfile_path\u001b[49m\u001b[43m,\u001b[49m\n\u001b[1;32m    107\u001b[0m \u001b[43m          \u001b[49m\u001b[43mdata_compression\u001b[49m\u001b[38;5;241;43m=\u001b[39;49m\u001b[43mcompression_opts\u001b[49m\u001b[43m,\u001b[49m\u001b[43m  \u001b[49m\u001b[43mchunks\u001b[49m\u001b[38;5;241;43m=\u001b[39;49m\u001b[43m(\u001b[49m\u001b[38;5;241;43m2048\u001b[39;49m\u001b[43m,\u001b[49m\u001b[43m \u001b[49m\u001b[38;5;241;43m2048\u001b[39;49m\u001b[43m)\u001b[49m\u001b[43m,\u001b[49m\n\u001b[1;32m    108\u001b[0m \u001b[43m          \u001b[49m\u001b[43mnoarray_compression\u001b[49m\u001b[38;5;241;43m=\u001b[39;49m\u001b[43mcompression_opts\u001b[49m\u001b[43m,\u001b[49m\u001b[43m \u001b[49m\u001b[43mpickle_protocol\u001b[49m\u001b[38;5;241;43m=\u001b[39;49m\u001b[38;5;241;43m2\u001b[39;49m\u001b[43m)\u001b[49m\n",
      "File \u001b[0;32m~/miniconda3/envs/benchmark/lib/python3.10/site-packages/celloracle/utility/hdf5_processing.py:70\u001b[0m, in \u001b[0;36mdump_hdf5\u001b[0;34m(obj, filename, data_compression, chunks, noarray_compression, pickle_protocol)\u001b[0m\n\u001b[1;32m     68\u001b[0m \u001b[38;5;28;01mif\u001b[39;00m os\u001b[38;5;241m.\u001b[39mpath\u001b[38;5;241m.\u001b[39misfile(filename):\n\u001b[1;32m     69\u001b[0m     os\u001b[38;5;241m.\u001b[39mremove(filename)\n\u001b[0;32m---> 70\u001b[0m \u001b[38;5;28;01mwith\u001b[39;00m \u001b[43mh5py\u001b[49m\u001b[38;5;241;43m.\u001b[39;49m\u001b[43mFile\u001b[49m\u001b[43m(\u001b[49m\u001b[43mfilename\u001b[49m\u001b[43m,\u001b[49m\u001b[43m \u001b[49m\u001b[38;5;124;43m\"\u001b[39;49m\u001b[38;5;124;43mw\u001b[39;49m\u001b[38;5;124;43m\"\u001b[39;49m\u001b[43m)\u001b[49m \u001b[38;5;28;01mas\u001b[39;00m _file:\n\u001b[1;32m     72\u001b[0m     \u001b[38;5;28;01mfor\u001b[39;00m k \u001b[38;5;129;01min\u001b[39;00m obj\u001b[38;5;241m.\u001b[39m\u001b[38;5;18m__dict__\u001b[39m\u001b[38;5;241m.\u001b[39mkeys():\n\u001b[1;32m     73\u001b[0m         attribute \u001b[38;5;241m=\u001b[39m \u001b[38;5;28mgetattr\u001b[39m(obj, k)\n",
      "File \u001b[0;32m~/miniconda3/envs/benchmark/lib/python3.10/site-packages/h5py/_hl/files.py:564\u001b[0m, in \u001b[0;36mFile.__init__\u001b[0;34m(self, name, mode, driver, libver, userblock_size, swmr, rdcc_nslots, rdcc_nbytes, rdcc_w0, track_order, fs_strategy, fs_persist, fs_threshold, fs_page_size, page_buf_size, min_meta_keep, min_raw_keep, locking, alignment_threshold, alignment_interval, meta_block_size, **kwds)\u001b[0m\n\u001b[1;32m    555\u001b[0m     fapl \u001b[38;5;241m=\u001b[39m make_fapl(driver, libver, rdcc_nslots, rdcc_nbytes, rdcc_w0,\n\u001b[1;32m    556\u001b[0m                      locking, page_buf_size, min_meta_keep, min_raw_keep,\n\u001b[1;32m    557\u001b[0m                      alignment_threshold\u001b[38;5;241m=\u001b[39malignment_threshold,\n\u001b[1;32m    558\u001b[0m                      alignment_interval\u001b[38;5;241m=\u001b[39malignment_interval,\n\u001b[1;32m    559\u001b[0m                      meta_block_size\u001b[38;5;241m=\u001b[39mmeta_block_size,\n\u001b[1;32m    560\u001b[0m                      \u001b[38;5;241m*\u001b[39m\u001b[38;5;241m*\u001b[39mkwds)\n\u001b[1;32m    561\u001b[0m     fcpl \u001b[38;5;241m=\u001b[39m make_fcpl(track_order\u001b[38;5;241m=\u001b[39mtrack_order, fs_strategy\u001b[38;5;241m=\u001b[39mfs_strategy,\n\u001b[1;32m    562\u001b[0m                      fs_persist\u001b[38;5;241m=\u001b[39mfs_persist, fs_threshold\u001b[38;5;241m=\u001b[39mfs_threshold,\n\u001b[1;32m    563\u001b[0m                      fs_page_size\u001b[38;5;241m=\u001b[39mfs_page_size)\n\u001b[0;32m--> 564\u001b[0m     fid \u001b[38;5;241m=\u001b[39m \u001b[43mmake_fid\u001b[49m\u001b[43m(\u001b[49m\u001b[43mname\u001b[49m\u001b[43m,\u001b[49m\u001b[43m \u001b[49m\u001b[43mmode\u001b[49m\u001b[43m,\u001b[49m\u001b[43m \u001b[49m\u001b[43muserblock_size\u001b[49m\u001b[43m,\u001b[49m\u001b[43m \u001b[49m\u001b[43mfapl\u001b[49m\u001b[43m,\u001b[49m\u001b[43m \u001b[49m\u001b[43mfcpl\u001b[49m\u001b[43m,\u001b[49m\u001b[43m \u001b[49m\u001b[43mswmr\u001b[49m\u001b[38;5;241;43m=\u001b[39;49m\u001b[43mswmr\u001b[49m\u001b[43m)\u001b[49m\n\u001b[1;32m    566\u001b[0m \u001b[38;5;28;01mif\u001b[39;00m \u001b[38;5;28misinstance\u001b[39m(libver, \u001b[38;5;28mtuple\u001b[39m):\n\u001b[1;32m    567\u001b[0m     \u001b[38;5;28mself\u001b[39m\u001b[38;5;241m.\u001b[39m_libver \u001b[38;5;241m=\u001b[39m libver\n",
      "File \u001b[0;32m~/miniconda3/envs/benchmark/lib/python3.10/site-packages/h5py/_hl/files.py:244\u001b[0m, in \u001b[0;36mmake_fid\u001b[0;34m(name, mode, userblock_size, fapl, fcpl, swmr)\u001b[0m\n\u001b[1;32m    242\u001b[0m     fid \u001b[38;5;241m=\u001b[39m h5f\u001b[38;5;241m.\u001b[39mcreate(name, h5f\u001b[38;5;241m.\u001b[39mACC_EXCL, fapl\u001b[38;5;241m=\u001b[39mfapl, fcpl\u001b[38;5;241m=\u001b[39mfcpl)\n\u001b[1;32m    243\u001b[0m \u001b[38;5;28;01melif\u001b[39;00m mode \u001b[38;5;241m==\u001b[39m \u001b[38;5;124m'\u001b[39m\u001b[38;5;124mw\u001b[39m\u001b[38;5;124m'\u001b[39m:\n\u001b[0;32m--> 244\u001b[0m     fid \u001b[38;5;241m=\u001b[39m \u001b[43mh5f\u001b[49m\u001b[38;5;241;43m.\u001b[39;49m\u001b[43mcreate\u001b[49m\u001b[43m(\u001b[49m\u001b[43mname\u001b[49m\u001b[43m,\u001b[49m\u001b[43m \u001b[49m\u001b[43mh5f\u001b[49m\u001b[38;5;241;43m.\u001b[39;49m\u001b[43mACC_TRUNC\u001b[49m\u001b[43m,\u001b[49m\u001b[43m \u001b[49m\u001b[43mfapl\u001b[49m\u001b[38;5;241;43m=\u001b[39;49m\u001b[43mfapl\u001b[49m\u001b[43m,\u001b[49m\u001b[43m \u001b[49m\u001b[43mfcpl\u001b[49m\u001b[38;5;241;43m=\u001b[39;49m\u001b[43mfcpl\u001b[49m\u001b[43m)\u001b[49m\n\u001b[1;32m    245\u001b[0m \u001b[38;5;28;01melif\u001b[39;00m mode \u001b[38;5;241m==\u001b[39m \u001b[38;5;124m'\u001b[39m\u001b[38;5;124ma\u001b[39m\u001b[38;5;124m'\u001b[39m:\n\u001b[1;32m    246\u001b[0m     \u001b[38;5;66;03m# Open in append mode (read/write).\u001b[39;00m\n\u001b[1;32m    247\u001b[0m     \u001b[38;5;66;03m# If that fails, create a new file only if it won't clobber an\u001b[39;00m\n\u001b[1;32m    248\u001b[0m     \u001b[38;5;66;03m# existing one (ACC_EXCL)\u001b[39;00m\n\u001b[1;32m    249\u001b[0m     \u001b[38;5;28;01mtry\u001b[39;00m:\n",
      "File \u001b[0;32mh5py/_objects.pyx:54\u001b[0m, in \u001b[0;36mh5py._objects.with_phil.wrapper\u001b[0;34m()\u001b[0m\n",
      "File \u001b[0;32mh5py/_objects.pyx:55\u001b[0m, in \u001b[0;36mh5py._objects.with_phil.wrapper\u001b[0;34m()\u001b[0m\n",
      "File \u001b[0;32mh5py/h5f.pyx:122\u001b[0m, in \u001b[0;36mh5py.h5f.create\u001b[0;34m()\u001b[0m\n",
      "\u001b[0;31mFileNotFoundError\u001b[0m: [Errno 2] Unable to synchronously create file (unable to open file: name = '/data/tmpA/andrem/celloracle/out/AML12_DX/links.celloracle.links', errno = 2, error message = 'No such file or directory', flags = 13, o_flags = 242)"
     ]
    }
   ],
   "source": [
    "\n",
    "print(f\"Saving links to {args.output}\")\n",
    "link_output_path = Path(args.output).parent / \"links.celloracle.links\"\n",
    "# Save Links object.\n",
    "raw_links.to_hdf5(file_path=str(link_output_path))\n",
    "\n",
    "raw_links.to_hdf5(file_path=link_output_path)\n"
   ]
  },
  {
   "cell_type": "code",
   "execution_count": 19,
   "id": "1a06f02f",
   "metadata": {},
   "outputs": [
    {
     "name": "stdout",
     "output_type": "stream",
     "text": [
      "Flattening GRN links...\n"
     ]
    }
   ],
   "source": [
    "\n",
    "print(\"Flattening GRN links...\")\n",
    "links = flatten_links_object(raw_links)\n"
   ]
  },
  {
   "cell_type": "code",
   "execution_count": 25,
   "id": "67331930",
   "metadata": {},
   "outputs": [
    {
     "name": "stdout",
     "output_type": "stream",
     "text": [
      "Annotating links with CREs...\n"
     ]
    }
   ],
   "source": [
    "\n",
    "print(\"Annotating links with CREs...\")\n",
    "links = expand_links_with_CREs(links, base_GRN)\n"
   ]
  },
  {
   "cell_type": "code",
   "execution_count": 15,
   "id": "a03382b4",
   "metadata": {},
   "outputs": [
    {
     "name": "stdout",
     "output_type": "stream",
     "text": [
      "Creating MuData object...\n"
     ]
    }
   ],
   "source": [
    "\n",
    "print(\"Creating MuData object...\")\n",
    "modalities = {\"rna\": adata}\n",
    "if args.use_atac:\n",
    "    atac_mod = sc.AnnData(X=np.empty((adata.n_obs, 0)))  # Placeholder\n",
    "    modalities[\"atac\"] = atac_mod\n",
    "\n",
    "mdata = mu.MuData(modalities)\n",
    "mdata.uns[\"celloracle_links\"] = links\n",
    "\n",
    "output_path = Path(args.output)\n",
    "output_path.parent.mkdir(parents=True, exist_ok=True)\n"
   ]
  },
  {
   "cell_type": "code",
   "execution_count": 16,
   "id": "e9185ede",
   "metadata": {},
   "outputs": [
    {
     "name": "stdout",
     "output_type": "stream",
     "text": [
      "Saving MuData to /data/tmpA/andrem/celloracle/out/AML12_DX/without_atac.h5mu\n"
     ]
    }
   ],
   "source": [
    "\n",
    "print(f\"Saving MuData to {args.output}\")\n",
    "mdata.write(args.output)\n"
   ]
  },
  {
   "cell_type": "code",
   "execution_count": 26,
   "id": "4a034b77",
   "metadata": {},
   "outputs": [
    {
     "data": {
      "text/html": [
       "<div>\n",
       "<style scoped>\n",
       "    .dataframe tbody tr th:only-of-type {\n",
       "        vertical-align: middle;\n",
       "    }\n",
       "\n",
       "    .dataframe tbody tr th {\n",
       "        vertical-align: top;\n",
       "    }\n",
       "\n",
       "    .dataframe thead th {\n",
       "        text-align: right;\n",
       "    }\n",
       "</style>\n",
       "<table border=\"1\" class=\"dataframe\">\n",
       "  <thead>\n",
       "    <tr style=\"text-align: right;\">\n",
       "      <th></th>\n",
       "      <th>source</th>\n",
       "      <th>target</th>\n",
       "      <th>coef_mean</th>\n",
       "      <th>coef_abs</th>\n",
       "      <th>p</th>\n",
       "      <th>-logp</th>\n",
       "      <th>cluster</th>\n",
       "      <th>chromosome</th>\n",
       "      <th>start</th>\n",
       "      <th>end</th>\n",
       "    </tr>\n",
       "  </thead>\n",
       "  <tbody>\n",
       "    <tr>\n",
       "      <th>0</th>\n",
       "      <td>FOSL2</td>\n",
       "      <td>A2M-AS1</td>\n",
       "      <td>1.308608e-03</td>\n",
       "      <td>1.308608e-03</td>\n",
       "      <td>8.212768e-09</td>\n",
       "      <td>8.085510</td>\n",
       "      <td>0</td>\n",
       "      <td>chr12</td>\n",
       "      <td>9064970</td>\n",
       "      <td>9066070</td>\n",
       "    </tr>\n",
       "    <tr>\n",
       "      <th>1</th>\n",
       "      <td>JUNB</td>\n",
       "      <td>A2M-AS1</td>\n",
       "      <td>-3.645662e-04</td>\n",
       "      <td>3.645662e-04</td>\n",
       "      <td>1.979343e-02</td>\n",
       "      <td>1.703479</td>\n",
       "      <td>0</td>\n",
       "      <td>chr12</td>\n",
       "      <td>9064970</td>\n",
       "      <td>9066070</td>\n",
       "    </tr>\n",
       "    <tr>\n",
       "      <th>2</th>\n",
       "      <td>KLF10</td>\n",
       "      <td>A2M-AS1</td>\n",
       "      <td>-6.443677e-04</td>\n",
       "      <td>6.443677e-04</td>\n",
       "      <td>3.456784e-05</td>\n",
       "      <td>4.461328</td>\n",
       "      <td>0</td>\n",
       "      <td>chr12</td>\n",
       "      <td>9064970</td>\n",
       "      <td>9066070</td>\n",
       "    </tr>\n",
       "    <tr>\n",
       "      <th>3</th>\n",
       "      <td>FOSB</td>\n",
       "      <td>A2M-AS1</td>\n",
       "      <td>-7.718563e-07</td>\n",
       "      <td>7.718563e-07</td>\n",
       "      <td>9.948294e-01</td>\n",
       "      <td>0.002251</td>\n",
       "      <td>0</td>\n",
       "      <td>chr12</td>\n",
       "      <td>9064970</td>\n",
       "      <td>9066070</td>\n",
       "    </tr>\n",
       "    <tr>\n",
       "      <th>4</th>\n",
       "      <td>FOS</td>\n",
       "      <td>A2M-AS1</td>\n",
       "      <td>9.604866e-04</td>\n",
       "      <td>9.604866e-04</td>\n",
       "      <td>2.387355e-08</td>\n",
       "      <td>7.622083</td>\n",
       "      <td>0</td>\n",
       "      <td>chr12</td>\n",
       "      <td>9064970</td>\n",
       "      <td>9066070</td>\n",
       "    </tr>\n",
       "    <tr>\n",
       "      <th>...</th>\n",
       "      <td>...</td>\n",
       "      <td>...</td>\n",
       "      <td>...</td>\n",
       "      <td>...</td>\n",
       "      <td>...</td>\n",
       "      <td>...</td>\n",
       "      <td>...</td>\n",
       "      <td>...</td>\n",
       "      <td>...</td>\n",
       "      <td>...</td>\n",
       "    </tr>\n",
       "    <tr>\n",
       "      <th>1377947</th>\n",
       "      <td>EGR1</td>\n",
       "      <td>ZWINT</td>\n",
       "      <td>0.000000e+00</td>\n",
       "      <td>0.000000e+00</td>\n",
       "      <td>NaN</td>\n",
       "      <td>-0.000000</td>\n",
       "      <td>9</td>\n",
       "      <td>chr10</td>\n",
       "      <td>56361173</td>\n",
       "      <td>56362273</td>\n",
       "    </tr>\n",
       "    <tr>\n",
       "      <th>1377948</th>\n",
       "      <td>ARID5A</td>\n",
       "      <td>ZWINT</td>\n",
       "      <td>0.000000e+00</td>\n",
       "      <td>0.000000e+00</td>\n",
       "      <td>NaN</td>\n",
       "      <td>-0.000000</td>\n",
       "      <td>9</td>\n",
       "      <td>chr10</td>\n",
       "      <td>56361173</td>\n",
       "      <td>56362273</td>\n",
       "    </tr>\n",
       "    <tr>\n",
       "      <th>1377949</th>\n",
       "      <td>FOXS1</td>\n",
       "      <td>ZWINT</td>\n",
       "      <td>0.000000e+00</td>\n",
       "      <td>0.000000e+00</td>\n",
       "      <td>NaN</td>\n",
       "      <td>-0.000000</td>\n",
       "      <td>9</td>\n",
       "      <td>chr10</td>\n",
       "      <td>56361173</td>\n",
       "      <td>56362273</td>\n",
       "    </tr>\n",
       "    <tr>\n",
       "      <th>1377950</th>\n",
       "      <td>MYC</td>\n",
       "      <td>ZWINT</td>\n",
       "      <td>0.000000e+00</td>\n",
       "      <td>0.000000e+00</td>\n",
       "      <td>NaN</td>\n",
       "      <td>-0.000000</td>\n",
       "      <td>9</td>\n",
       "      <td>chr10</td>\n",
       "      <td>56361173</td>\n",
       "      <td>56362273</td>\n",
       "    </tr>\n",
       "    <tr>\n",
       "      <th>1377951</th>\n",
       "      <td>PRDM1</td>\n",
       "      <td>ZWINT</td>\n",
       "      <td>0.000000e+00</td>\n",
       "      <td>0.000000e+00</td>\n",
       "      <td>NaN</td>\n",
       "      <td>-0.000000</td>\n",
       "      <td>9</td>\n",
       "      <td>chr10</td>\n",
       "      <td>56361173</td>\n",
       "      <td>56362273</td>\n",
       "    </tr>\n",
       "  </tbody>\n",
       "</table>\n",
       "<p>1377952 rows × 10 columns</p>\n",
       "</div>"
      ],
      "text/plain": [
       "         source   target     coef_mean      coef_abs             p     -logp  \\\n",
       "0         FOSL2  A2M-AS1  1.308608e-03  1.308608e-03  8.212768e-09  8.085510   \n",
       "1          JUNB  A2M-AS1 -3.645662e-04  3.645662e-04  1.979343e-02  1.703479   \n",
       "2         KLF10  A2M-AS1 -6.443677e-04  6.443677e-04  3.456784e-05  4.461328   \n",
       "3          FOSB  A2M-AS1 -7.718563e-07  7.718563e-07  9.948294e-01  0.002251   \n",
       "4           FOS  A2M-AS1  9.604866e-04  9.604866e-04  2.387355e-08  7.622083   \n",
       "...         ...      ...           ...           ...           ...       ...   \n",
       "1377947    EGR1    ZWINT  0.000000e+00  0.000000e+00           NaN -0.000000   \n",
       "1377948  ARID5A    ZWINT  0.000000e+00  0.000000e+00           NaN -0.000000   \n",
       "1377949   FOXS1    ZWINT  0.000000e+00  0.000000e+00           NaN -0.000000   \n",
       "1377950     MYC    ZWINT  0.000000e+00  0.000000e+00           NaN -0.000000   \n",
       "1377951   PRDM1    ZWINT  0.000000e+00  0.000000e+00           NaN -0.000000   \n",
       "\n",
       "        cluster chromosome     start       end  \n",
       "0             0      chr12   9064970   9066070  \n",
       "1             0      chr12   9064970   9066070  \n",
       "2             0      chr12   9064970   9066070  \n",
       "3             0      chr12   9064970   9066070  \n",
       "4             0      chr12   9064970   9066070  \n",
       "...         ...        ...       ...       ...  \n",
       "1377947       9      chr10  56361173  56362273  \n",
       "1377948       9      chr10  56361173  56362273  \n",
       "1377949       9      chr10  56361173  56362273  \n",
       "1377950       9      chr10  56361173  56362273  \n",
       "1377951       9      chr10  56361173  56362273  \n",
       "\n",
       "[1377952 rows x 10 columns]"
      ]
     },
     "execution_count": 26,
     "metadata": {},
     "output_type": "execute_result"
    }
   ],
   "source": [
    "links"
   ]
  },
  {
   "cell_type": "code",
   "execution_count": 24,
   "id": "7169a047",
   "metadata": {},
   "outputs": [
    {
     "data": {
      "text/html": [
       "<pre>MuData object with n_obs × n_vars = 6826 × 2000\n",
       "  var:\t&#x27;gene_ids&#x27;, &#x27;feature_types&#x27;, &#x27;genome&#x27;, &#x27;n_counts&#x27;, &#x27;mean&#x27;, &#x27;std&#x27;\n",
       "  uns:\t&#x27;celloracle_links&#x27;\n",
       "  1 modality\n",
       "    rna:\t6826 x 2000\n",
       "      obs:\t&#x27;patient&#x27;, &#x27;dx&#x27;, &#x27;sample&#x27;, &#x27;batch&#x27;, &#x27;GEO_ID&#x27;, &#x27;Lambo_et_al_ID&#x27;, &#x27;Patient_Sample&#x27;, &#x27;Library_ID&#x27;, &#x27;Counts&#x27;, &#x27;Features&#x27;, &#x27;Mitochondria_percent&#x27;, &#x27;Classified_Celltype&#x27;, &#x27;Seurat_Cluster&#x27;, &#x27;Malignant&#x27;, &#x27;Patient_ID&#x27;, &#x27;Biopsy_Origin&#x27;, &#x27;Age_Months&#x27;, &#x27;Disease_free_days&#x27;, &#x27;Clinical_Blast_Percent&#x27;, &#x27;Expected_Driving_Aberration&#x27;, &#x27;Subgroup&#x27;, &#x27;Color_Subgroup&#x27;, &#x27;Known_CNVs&#x27;, &#x27;Treatment_Outcome&#x27;, &#x27;nCount_RNA&#x27;, &#x27;nFeature_RNA&#x27;, &#x27;doublet&#x27;, &#x27;doublet_score&#x27;, &#x27;n_counts_all&#x27;, &#x27;n_counts&#x27;, &#x27;louvain&#x27;\n",
       "      var:\t&#x27;gene_ids&#x27;, &#x27;feature_types&#x27;, &#x27;genome&#x27;, &#x27;n_counts&#x27;, &#x27;mean&#x27;, &#x27;std&#x27;\n",
       "      uns:\t&#x27;diffmap_evals&#x27;, &#x27;doublets_removed&#x27;, &#x27;draw_graph&#x27;, &#x27;log1p&#x27;, &#x27;louvain&#x27;, &#x27;louvain_colors&#x27;, &#x27;louvain_sizes&#x27;, &#x27;neighbors&#x27;, &#x27;paga&#x27;, &#x27;pca&#x27;\n",
       "      obsm:\t&#x27;X_diffmap&#x27;, &#x27;X_draw_graph_fa&#x27;, &#x27;X_pca&#x27;\n",
       "      varm:\t&#x27;PCs&#x27;\n",
       "      layers:\t&#x27;raw_count&#x27;\n",
       "      obsp:\t&#x27;connectivities&#x27;, &#x27;distances&#x27;</pre>"
      ],
      "text/plain": [
       "MuData object with n_obs × n_vars = 6826 × 2000\n",
       "  var:\t'gene_ids', 'feature_types', 'genome', 'n_counts', 'mean', 'std'\n",
       "  uns:\t'celloracle_links'\n",
       "  1 modality\n",
       "    rna:\t6826 x 2000\n",
       "      obs:\t'patient', 'dx', 'sample', 'batch', 'GEO_ID', 'Lambo_et_al_ID', 'Patient_Sample', 'Library_ID', 'Counts', 'Features', 'Mitochondria_percent', 'Classified_Celltype', 'Seurat_Cluster', 'Malignant', 'Patient_ID', 'Biopsy_Origin', 'Age_Months', 'Disease_free_days', 'Clinical_Blast_Percent', 'Expected_Driving_Aberration', 'Subgroup', 'Color_Subgroup', 'Known_CNVs', 'Treatment_Outcome', 'nCount_RNA', 'nFeature_RNA', 'doublet', 'doublet_score', 'n_counts_all', 'n_counts', 'louvain'\n",
       "      var:\t'gene_ids', 'feature_types', 'genome', 'n_counts', 'mean', 'std'\n",
       "      uns:\t'diffmap_evals', 'doublets_removed', 'draw_graph', 'log1p', 'louvain', 'louvain_colors', 'louvain_sizes', 'neighbors', 'paga', 'pca'\n",
       "      obsm:\t'X_diffmap', 'X_draw_graph_fa', 'X_pca'\n",
       "      varm:\t'PCs'\n",
       "      layers:\t'raw_count'\n",
       "      obsp:\t'connectivities', 'distances'"
      ]
     },
     "execution_count": 24,
     "metadata": {},
     "output_type": "execute_result"
    }
   ],
   "source": [
    "mdata"
   ]
  },
  {
   "cell_type": "code",
   "execution_count": null,
   "id": "615f5ac2",
   "metadata": {},
   "outputs": [],
   "source": []
  }
 ],
 "metadata": {
  "kernelspec": {
   "display_name": "benchmark",
   "language": "python",
   "name": "python3"
  },
  "language_info": {
   "codemirror_mode": {
    "name": "ipython",
    "version": 3
   },
   "file_extension": ".py",
   "mimetype": "text/x-python",
   "name": "python",
   "nbconvert_exporter": "python",
   "pygments_lexer": "ipython3",
   "version": "3.10.17"
  }
 },
 "nbformat": 4,
 "nbformat_minor": 5
}
