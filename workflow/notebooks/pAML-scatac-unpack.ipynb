{
 "cells": [
  {
   "cell_type": "code",
   "execution_count": 1,
   "id": "899751f2",
   "metadata": {},
   "outputs": [],
   "source": [
    "import gzip\n",
    "import shutil\n",
    "import os\n",
    "from pycisTopic.cistopic_class import create_cistopic_object_from_fragments\n",
    "import polars as pl\n",
    "import pandas as pd\n",
    "import pickle\n",
    "import scanpy as sc"
   ]
  },
  {
   "cell_type": "code",
   "execution_count": 2,
   "id": "d817c965",
   "metadata": {},
   "outputs": [],
   "source": [
    "source_dir = \"/data/benchmarks/andrem/input_scatac\"\n",
    "out_dir = \"/data/tmpA/andrem/pycistopic-obj/without-model\"\n",
    "\n",
    "# Saves checkpoints\n",
    "temp_dir = \"/data/tmpA/andrem/pycistopic-obj/temp\"\n"
   ]
  },
  {
   "cell_type": "code",
   "execution_count": null,
   "id": "fc8efeff",
   "metadata": {},
   "outputs": [],
   "source": [
    "# Iterate over all files in the directory\n",
    "for file in os.listdir(source_dir):\n",
    "    if file.endswith(\".gz\"):  # Process only .gz files\n",
    "        gz_path = os.path.join(source_dir, file)\n",
    "        unzipped_path = os.path.join(source_dir, file[:-3])  # Remove \".gz\" extension\n",
    "\n",
    "        # Unzip the file\n",
    "        with gzip.open(gz_path, \"rb\") as f_in, open(unzipped_path, \"wb\") as f_out:\n",
    "            shutil.copyfileobj(f_in, f_out)\n",
    "\n",
    "        # Remove the original .gz file after successful extraction\n",
    "        os.remove(gz_path)\n",
    "        print(f\"Unzipped and removed: {gz_path}\")\n"
   ]
  },
  {
   "cell_type": "code",
   "execution_count": null,
   "id": "484d9ac6",
   "metadata": {},
   "outputs": [],
   "source": [
    "fragments_files = [f for f in os.listdir(source_dir) if f.endswith(\"_filtered_fragments.tsv\")]\n",
    "\n",
    "for file in fragments_files:\n",
    "    # Define input and output file paths\n",
    "    path_to_file = os.path.join(source_dir, file)\n",
    "\n",
    "    # Load TSV file\n",
    "    df = pd.read_csv(path_to_file, sep=\"\\t\")\n",
    "\n",
    "    # Drop the 'width' column if it exists\n",
    "    if \"width\" in df.columns:\n",
    "        df.drop(columns=[\"width\"], inplace=True)\n",
    "\n",
    "    # Reorder columns to: seqnames, start, end, RG, strand\n",
    "    column_order = [\"seqnames\", \"start\", \"end\", \"RG\", \"strand\"]\n",
    "    df_filtered = df[column_order]\n",
    "\n",
    "    # Save the new file without header\n",
    "    df_filtered.to_csv(path_to_file, sep=\"\\t\", index=False, header=False)\n",
    "\n",
    "    print(f\"Saved processed file: {path_to_file}\")\n",
    "\n"
   ]
  },
  {
   "cell_type": "code",
   "execution_count": null,
   "id": "e12f8c74",
   "metadata": {},
   "outputs": [],
   "source": [
    "# Get all peaks files\n",
    "peaks_files = [f for f in os.listdir(source_dir) if f.endswith(\"_peaks.tsv\")]\n",
    "\n",
    "for peaks_file in peaks_files:\n",
    "    # Load the peaks data\n",
    "    peaks_df = pd.read_csv(os.path.join(source_dir, peaks_file), sep=\"\\t\", dtype={\"start\": \"int32\", \"end\": \"int32\"})\n",
    "\n",
    "    # Rename columns and select required ones\n",
    "    bed_df = peaks_df.rename(columns={\"seqnames\": \"Chromosome\", \"start\": \"Start\", \"end\": \"End\"})[[\"Chromosome\", \"Start\", \"End\"]]\n",
    "\n",
    "    # Save the file in `workspace/` with the new format\n",
    "    bed_file = os.path.join(source_dir, peaks_file.replace(\".tsv\", \".bed\"))\n",
    "    bed_df.to_csv(bed_file, sep=\"\\t\", index=False) \n",
    "\n",
    "    print(f\"Saved .bed file: {bed_file}\")\n",
    "\n"
   ]
  },
  {
   "cell_type": "code",
   "execution_count": 2,
   "id": "e558ebd4",
   "metadata": {},
   "outputs": [
    {
     "name": "stdout",
     "output_type": "stream",
     "text": [
      "Renamed 'GSM7494266_AML15_DX_filtered.h5ad' to 'AML15_DX_filtered.h5ad'\n",
      "Renamed 'GSM7494327_AML12_REL_filtered.h5ad' to 'AML12_REL_filtered.h5ad'\n",
      "Renamed 'GSM7494326_AML12_DX_filtered.h5ad' to 'AML12_DX_filtered.h5ad'\n",
      "Renamed 'GSM7494257_AML16_DX_filtered.h5ad' to 'AML16_DX_filtered.h5ad'\n",
      "Renamed 'GSM7494330_AML13_REL_filtered.h5ad' to 'AML13_REL_filtered.h5ad'\n",
      "Renamed '.DS_Store' to 'Store'\n",
      "Renamed 'GSM7494267_AML15_REL_filtered.h5ad' to 'AML15_REL_filtered.h5ad'\n",
      "Renamed 'GSM7494314_AML14_DX_filtered.h5ad' to 'AML14_DX_filtered.h5ad'\n",
      "Renamed 'GSM7494258_AML16_REL_filtered.h5ad' to 'AML16_REL_filtered.h5ad'\n",
      "Renamed 'GSM7494329_AML13_DX_filtered.h5ad' to 'AML13_DX_filtered.h5ad'\n",
      "Renamed 'GSM7494331_AML13_REM_filtered.h5ad' to 'AML13_REM_filtered.h5ad'\n",
      "Renamed 'GSM7494328_AML12_REM_filtered.h5ad' to 'AML12_REM_filtered.h5ad'\n",
      "Renamed 'GSM7494259_AML16_REM_filtered.h5ad' to 'AML16_REM_filtered.h5ad'\n",
      "Renamed 'GSM7494315_AML14_REM_filtered.h5ad' to 'AML14_REM_filtered.h5ad'\n",
      "Renamed 'GSM7494268_AML15_REM_filtered.h5ad' to 'AML15_REM_filtered.h5ad'\n"
     ]
    }
   ],
   "source": [
    "import os\n",
    "source_dir =  \"/data/benchmarks/andrem/input_rna\"\n",
    "# Iterate over all files in the directory\n",
    "for filename in os.listdir(source_dir):\n",
    "    # Split the filename into parts using underscore as the delimiter\n",
    "    parts = filename.split(\"_\")\n",
    "    # Check if the filename has more than one part\n",
    "    if len(parts) > 1:\n",
    "        # Remove the first part (e.g., 'GSM7498708') and join the rest\n",
    "        new_name = \"_\".join(parts[1:])\n",
    "        # Construct full file paths\n",
    "        src = os.path.join(source_dir, filename)\n",
    "        dst = os.path.join(source_dir, new_name)\n",
    "        # Rename the file\n",
    "        os.rename(src, dst)\n",
    "        print(f\"Renamed '{filename}' to '{new_name}'\")\n"
   ]
  },
  {
   "cell_type": "code",
   "execution_count": 2,
   "id": "bd7f5ed1",
   "metadata": {},
   "outputs": [],
   "source": [
    "import pickle\n",
    "# Load the cistopic object\n",
    "pkl_path = \"/data/tmpA/andrem/pycistopic-obj/with-model/AML12_DX_pycistopic_obj.pkl\"\n",
    "\n",
    "with open(pkl_path, 'rb') as f:\n",
    "    cistopic_object = pickle.load(f)\n"
   ]
  },
  {
   "cell_type": "code",
   "execution_count": 5,
   "id": "a6c6d032",
   "metadata": {},
   "outputs": [
    {
     "data": {
      "text/plain": [
       "'AML12_DX'"
      ]
     },
     "execution_count": 5,
     "metadata": {},
     "output_type": "execute_result"
    }
   ],
   "source": [
    "cistopic_object.project"
   ]
  },
  {
   "cell_type": "code",
   "execution_count": null,
   "id": "370ec7de",
   "metadata": {},
   "outputs": [],
   "source": []
  }
 ],
 "metadata": {
  "kernelspec": {
   "display_name": "scenicplus2",
   "language": "python",
   "name": "python3"
  },
  "language_info": {
   "codemirror_mode": {
    "name": "ipython",
    "version": 3
   },
   "file_extension": ".py",
   "mimetype": "text/x-python",
   "name": "python",
   "nbconvert_exporter": "python",
   "pygments_lexer": "ipython3",
   "version": "3.11.8"
  }
 },
 "nbformat": 4,
 "nbformat_minor": 5
}
