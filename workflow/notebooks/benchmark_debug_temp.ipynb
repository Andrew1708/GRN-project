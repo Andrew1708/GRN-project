{
 "cells": [
  {
   "cell_type": "code",
   "execution_count": 1,
   "id": "82e1585e",
   "metadata": {},
   "outputs": [
    {
     "name": "stderr",
     "output_type": "stream",
     "text": [
      "/home/andrem/miniconda3/envs/benchmark/lib/python3.10/site-packages/mudata/_core/mudata.py:1531: FutureWarning: From 0.4 .update() will not pull obs/var columns from individual modalities by default anymore. Set mudata.set_options(pull_on_update=False) to adopt the new behaviour, which will become the default. Use new pull_obs/pull_var and push_obs/push_var methods for more flexibility.\n",
      "  self._update_attr(\"var\", axis=0, join_common=join_common)\n",
      "/home/andrem/miniconda3/envs/benchmark/lib/python3.10/site-packages/mudata/_core/mudata.py:1429: FutureWarning: From 0.4 .update() will not pull obs/var columns from individual modalities by default anymore. Set mudata.set_options(pull_on_update=False) to adopt the new behaviour, which will become the default. Use new pull_obs/pull_var and push_obs/push_var methods for more flexibility.\n",
      "  self._update_attr(\"obs\", axis=1, join_common=join_common)\n"
     ]
    }
   ],
   "source": [
    "import muon as mu\n",
    "path = \"/data/tmpA/andrem/celloracle/out/AML12_DX_with_atac/mdata.h5mu\"\n",
    "mdata = mu.read_h5mu(path)"
   ]
  },
  {
   "cell_type": "code",
   "execution_count": 5,
   "id": "c4589f52",
   "metadata": {},
   "outputs": [
    {
     "data": {
      "text/plain": [
       "Index(['AAACCCAAGGGTTAAT-1___AML12_DX', 'AAACCCAAGTTGCCTA-1___AML12_DX',\n",
       "       'AAACCCACAAATGGTA-1___AML12_DX', 'AAACCCACAACACTAC-1___AML12_DX',\n",
       "       'AAACCCACACAACCGC-1___AML12_DX', 'AAACCCACACGACGTC-1___AML12_DX',\n",
       "       'AAACCCACATTCTGTT-1___AML12_DX', 'AAACCCAGTAACGTTC-1___AML12_DX',\n",
       "       'AAACCCAGTCTCAGGC-1___AML12_DX', 'AAACCCATCGAGTGAG-1___AML12_DX',\n",
       "       ...\n",
       "       'TTTGGTTGTCAAAGAT-1___AML12_DX', 'TTTGGTTGTGGGCTCT-1___AML12_DX',\n",
       "       'TTTGGTTGTTAGGAGC-1___AML12_DX', 'TTTGTTGAGACCGTTT-1___AML12_DX',\n",
       "       'TTTGTTGAGAGGCCAT-1___AML12_DX', 'TTTGTTGAGTAGGCCA-1___AML12_DX',\n",
       "       'TTTGTTGGTAGATTGA-1___AML12_DX', 'TTTGTTGGTGCAGATG-1___AML12_DX',\n",
       "       'TTTGTTGGTTGTGTTG-1___AML12_DX', 'TTTGTTGTCCGTTGGG-1___AML12_DX'],\n",
       "      dtype='object', length=6826)"
      ]
     },
     "execution_count": 5,
     "metadata": {},
     "output_type": "execute_result"
    }
   ],
   "source": [
    "mdata[\"rna\"].obs_names"
   ]
  },
  {
   "cell_type": "code",
   "execution_count": 8,
   "id": "1ea30bcd",
   "metadata": {},
   "outputs": [
    {
     "data": {
      "text/plain": [
       "Index(['0', '1', '2', '3', '4', '5', '6', '7', '8', '9',\n",
       "       ...\n",
       "       '6816', '6817', '6818', '6819', '6820', '6821', '6822', '6823', '6824',\n",
       "       '6825'],\n",
       "      dtype='object', length=6826)"
      ]
     },
     "execution_count": 8,
     "metadata": {},
     "output_type": "execute_result"
    }
   ],
   "source": [
    "mdata[\"atac\"].obs_names"
   ]
  },
  {
   "cell_type": "code",
   "execution_count": null,
   "id": "b1f1bf07",
   "metadata": {},
   "outputs": [],
   "source": []
  }
 ],
 "metadata": {
  "kernelspec": {
   "display_name": "benchmark",
   "language": "python",
   "name": "python3"
  },
  "language_info": {
   "codemirror_mode": {
    "name": "ipython",
    "version": 3
   },
   "file_extension": ".py",
   "mimetype": "text/x-python",
   "name": "python",
   "nbconvert_exporter": "python",
   "pygments_lexer": "ipython3",
   "version": "3.10.17"
  }
 },
 "nbformat": 4,
 "nbformat_minor": 5
}
