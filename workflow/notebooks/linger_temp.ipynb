{
 "cells": [
  {
   "cell_type": "code",
   "execution_count": 2,
   "id": "78fed841",
   "metadata": {},
   "outputs": [
    {
     "name": "stdout",
     "output_type": "stream",
     "text": [
      "Using CUDA device(s): 0\n"
     ]
    }
   ],
   "source": [
    "# Cell 1: Setup and user-defined variables\n",
    "import os\n",
    "\n",
    "# Set these paths accordingly\n",
    "data_dir = \"/data/tmpA/andrem/linger/preprocessed_obj/AML12_DX_MO_scdart\"            # Directory with RNA.txt, ATAC.txt, label.txt\n",
    "datadir = \"/data/benchmarks/andrem/linger\"              # Directory with bulk GRN data (will look for data_bulk/)\n",
    "outdir = \"/data/tmpA/andrem/linger/out/AML12_DX_MO_scdart\"            # Output directory\n",
    "method = \"LINGER\"                        # or 'baseline'\n",
    "genome = \"hg38\"\n",
    "network = \"cell population\"\n",
    "celltype = \"all\"\n",
    "activation = \"ReLU\"\n",
    "cuda_device = \"0\"\n",
    "\n",
    "# Set CUDA device\n",
    "os.environ[\"CUDA_VISIBLE_DEVICES\"] = cuda_device\n",
    "print(f\"Using CUDA device(s): {cuda_device}\")\n",
    "os.makedirs(outdir, exist_ok=True)\n"
   ]
  },
  {
   "cell_type": "code",
   "execution_count": 3,
   "id": "2f0a7880",
   "metadata": {},
   "outputs": [
    {
     "name": "stderr",
     "output_type": "stream",
     "text": [
      "IProgress not found. Please update jupyter and ipywidgets. See https://ipywidgets.readthedocs.io/en/stable/user_install.html\n"
     ]
    }
   ],
   "source": [
    "# Cell 2: Imports\n",
    "import pandas as pd\n",
    "from scipy.sparse import csc_matrix\n",
    "import anndata\n",
    "import scanpy as sc\n",
    "#import muon as mu\n",
    "\n",
    "from LingerGRN.preprocess import get_adata, preprocess\n",
    "from LingerGRN.pseudo_bulk import pseudo_bulk\n",
    "import LingerGRN.LINGER_tr as LINGER_tr\n",
    "import LingerGRN.LL_net as LL_net\n",
    "from LingerGRN.TF_activity import regulon, heatmap_cluster, master_regulator, box_comp\n"
   ]
  },
  {
   "cell_type": "code",
   "execution_count": 14,
   "id": "9ac0890c",
   "metadata": {},
   "outputs": [
    {
     "name": "stdout",
     "output_type": "stream",
     "text": [
      "Loading input data...\n"
     ]
    }
   ],
   "source": [
    "# Cell 3: Load and merge input data\n",
    "def clean_barcode_columns(columns):\n",
    "    return columns.str.split('___').str[0].str.replace('-1$', '', regex=True)\n",
    "\n",
    "print(\"Loading input data...\")\n",
    "label = pd.read_csv(os.path.join(data_dir, 'label.txt'), sep='\\t')\n",
    "RNA = pd.read_csv(os.path.join(data_dir, 'RNA.txt'), sep='\\t', index_col=0)\n",
    "ATAC = pd.read_csv(os.path.join(data_dir, 'ATAC.txt'), sep='\\t', index_col=0)\n",
    "\n",
    "#TODO meter isto correcto no preparate input => dps de verficar se isto é o correto\n",
    "RNA.columns = clean_barcode_columns(RNA.columns)\n",
    "ATAC.columns = clean_barcode_columns(ATAC.columns)\n",
    "label = pd.read_csv(os.path.join(data_dir, 'label.txt'), sep='\\t')\n",
    "# Clean the \"barcode\" column and rename it to \"barcode_use\"\n",
    "label['barcode_use'] = label['barcode'].str.split('___').str[0].str.replace('-1$', '', regex=True)\n",
    "# Drop the original \"index\" column if it exists\n",
    "label = label.drop(columns=['index'], errors='ignore')\n",
    "# Reorder columns: \"label\", \"barcode_use\"\n",
    "label = label[['label', 'barcode_use']]\n",
    "\n",
    "\n",
    "matrix = csc_matrix(pd.concat([RNA, ATAC], axis=0).values)\n",
    "features = pd.DataFrame(RNA.index.tolist() + ATAC.index.tolist(), columns=[1])\n",
    "features[2] = ['Gene Expression'] * RNA.shape[0] + ['Peaks'] * ATAC.shape[0]\n",
    "barcodes = pd.DataFrame(RNA.columns.values, columns=[0])\n"
   ]
  },
  {
   "cell_type": "code",
   "execution_count": 16,
   "id": "d27b022a",
   "metadata": {},
   "outputs": [
    {
     "name": "stderr",
     "output_type": "stream",
     "text": [
      "Trying to modify attribute `.obs` of view, initializing view as actual.\n",
      "Trying to modify attribute `.obs` of view, initializing view as actual.\n",
      "Trying to modify attribute `.obs` of view, initializing view as actual.\n",
      "Trying to modify attribute `.obs` of view, initializing view as actual.\n"
     ]
    },
    {
     "name": "stdout",
     "output_type": "stream",
     "text": [
      "Filtered cells: 6074 shared barcodes\n"
     ]
    }
   ],
   "source": [
    "# Cell 4: Create AnnData objects and filter\n",
    "adata_RNA, adata_ATAC = get_adata(matrix, features, barcodes, label)\n",
    "\n",
    "sc.pp.filter_cells(adata_RNA, min_genes=200)\n",
    "sc.pp.filter_genes(adata_RNA, min_cells=3)\n",
    "sc.pp.filter_cells(adata_ATAC, min_genes=200)\n",
    "sc.pp.filter_genes(adata_ATAC, min_cells=3)\n",
    "\n",
    "# Keep only intersected barcodes\n",
    "selected = list(set(adata_RNA.obs['barcode']) & set(adata_ATAC.obs['barcode']))\n",
    "adata_RNA = adata_RNA[[b in selected for b in adata_RNA.obs['barcode']]]\n",
    "adata_ATAC = adata_ATAC[[b in selected for b in adata_ATAC.obs['barcode']]]\n",
    "\n",
    "print(f\"Filtered cells: {adata_RNA.n_obs} shared barcodes\")\n"
   ]
  },
  {
   "cell_type": "code",
   "execution_count": null,
   "id": "1f813b3a",
   "metadata": {},
   "outputs": [
    {
     "name": "stderr",
     "output_type": "stream",
     "text": [
      "Received a view of an AnnData. Making a copy.\n",
      "Received a view of an AnnData. Making a copy.\n",
      "Received a view of an AnnData. Making a copy.\n",
      "Received a view of an AnnData. Making a copy.\n",
      "Trying to modify attribute `.obs` of view, initializing view as actual.\n",
      "Trying to modify attribute `.obs` of view, initializing view as actual.\n"
     ]
    },
    {
     "name": "stdout",
     "output_type": "stream",
     "text": [
      "✅ Pseudo-bulk completed: TG (17360, 229), RE (205003, 229)\n"
     ]
    }
   ],
   "source": [
    "from LingerGRN.pseudo_bulk import *\n",
    "\n",
    "samplelist = list(set(adata_ATAC.obs['sample'].values))  # unique sample IDs\n",
    "singlepseudobulk = adata_RNA.obs['sample'].nunique() ** 2 > 100\n",
    "\n",
    "TG_pseudobulk = pd.DataFrame([])\n",
    "RE_pseudobulk = pd.DataFrame([])\n",
    "\n",
    "for tempsample in samplelist:\n",
    "    adata_RNAtemp = adata_RNA[adata_RNA.obs['sample'] == tempsample]\n",
    "    adata_ATACtemp = adata_ATAC[adata_ATAC.obs['sample'] == tempsample]\n",
    "    \n",
    "    TG_pseudobulk_temp, RE_pseudobulk_temp = pseudo_bulk(adata_RNAtemp, adata_ATACtemp, singlepseudobulk)\n",
    "\n",
    "    RE_pseudobulk_temp[RE_pseudobulk_temp > 100] = 100\n",
    "\n",
    "    TG_pseudobulk = pd.concat([TG_pseudobulk, TG_pseudobulk_temp], axis=1)\n",
    "    RE_pseudobulk = pd.concat([RE_pseudobulk, RE_pseudobulk_temp], axis=1)\n",
    "\n",
    "# Save outputs\n",
    "import os\n",
    "if not os.path.exists('data/'):\n",
    "    os.mkdir('data/')\n",
    "\n",
    "#adata_ATAC.write('data/adata_ATAC.h5ad')\n",
    "#adata_RNA.write('data/adata_RNA.h5ad')\n",
    "pd.DataFrame(adata_ATAC.var['gene_ids']).to_csv(os.path.join(outdir, \"Peaks.txt\"), header=None, index=None)\n",
    "\n",
    "TG_pseudobulk = TG_pseudobulk.fillna(0)\n",
    "RE_pseudobulk = RE_pseudobulk.fillna(0)\n",
    "TG_pseudobulk.to_csv('data/TG_pseudobulk.tsv', sep='\\t')\n",
    "RE_pseudobulk.to_csv('data/RE_pseudobulk.tsv', sep='\\t')\n",
    "\n",
    "print(f\"✅ Pseudo-bulk completed: TG {TG_pseudobulk.shape}, RE {RE_pseudobulk.shape}\")\n"
   ]
  },
  {
   "cell_type": "code",
   "execution_count": 33,
   "id": "0e9e76a6",
   "metadata": {},
   "outputs": [
    {
     "name": "stdout",
     "output_type": "stream",
     "text": [
      "/home/andrem/GRN-project/workflow/.snakemake/conda/76d78891a26d915bcb4ceb8a190f4007_/lib/python3.10/site-packages/LingerGRN/LINGER_tr.py\n"
     ]
    }
   ],
   "source": [
    "from LingerGRN.preprocess import preprocess\n",
    "import inspect\n",
    "\n",
    "print(inspect.getfile(LINGER_tr.training))"
   ]
  },
  {
   "cell_type": "code",
   "execution_count": null,
   "id": "8e4144f7",
   "metadata": {},
   "outputs": [
    {
     "name": "stdout",
     "output_type": "stream",
     "text": [
      "Mapping gene expression...\n",
      "Generate TF expression...\n",
      "Generate RE chromatin accessibility...\n",
      "Generate TF binding...\n"
     ]
    },
    {
     "name": "stderr",
     "output_type": "stream",
     "text": [
      "100%|██████████| 23/23 [12:14<00:00, 31.93s/it]\n"
     ]
    },
    {
     "name": "stdout",
     "output_type": "stream",
     "text": [
      "Generate Index...\n"
     ]
    },
    {
     "name": "stderr",
     "output_type": "stream",
     "text": [
      "100%|██████████| 12802/12802 [00:27<00:00, 466.77it/s]\n"
     ]
    },
    {
     "ename": "TypeError",
     "evalue": "training() missing 1 required positional argument: 'species'",
     "output_type": "error",
     "traceback": [
      "\u001b[0;31m---------------------------------------------------------------------------\u001b[0m",
      "\u001b[0;31mTypeError\u001b[0m                                 Traceback (most recent call last)",
      "Cell \u001b[0;32mIn[25], line 4\u001b[0m\n\u001b[1;32m      2\u001b[0m GRNdir \u001b[38;5;241m=\u001b[39m os\u001b[38;5;241m.\u001b[39mpath\u001b[38;5;241m.\u001b[39mjoin(datadir, \u001b[38;5;124m'\u001b[39m\u001b[38;5;124mdata_bulk/\u001b[39m\u001b[38;5;124m'\u001b[39m)\n\u001b[1;32m      3\u001b[0m preprocess(TG_pseudobulk, RE_pseudobulk, GRNdir, genome, method, outdir)\n\u001b[0;32m----> 4\u001b[0m \u001b[43mLINGER_tr\u001b[49m\u001b[38;5;241;43m.\u001b[39;49m\u001b[43mtraining\u001b[49m\u001b[43m(\u001b[49m\u001b[43mGRNdir\u001b[49m\u001b[43m,\u001b[49m\u001b[43m \u001b[49m\u001b[43mmethod\u001b[49m\u001b[43m,\u001b[49m\u001b[43m \u001b[49m\u001b[43moutdir\u001b[49m\u001b[43m,\u001b[49m\u001b[43m \u001b[49m\u001b[43mactivation\u001b[49m\u001b[43m)\u001b[49m\n",
      "\u001b[0;31mTypeError\u001b[0m: training() missing 1 required positional argument: 'species'"
     ]
    }
   ],
   "source": [
    "# Cell 6: Preprocess + train model\n",
    "GRNdir = os.path.join(datadir, 'data_bulk/')\n",
    "preprocess(TG_pseudobulk, RE_pseudobulk, GRNdir, genome, method, outdir)\n",
    "\n"
   ]
  },
  {
   "cell_type": "code",
   "execution_count": 44,
   "id": "ce731978",
   "metadata": {},
   "outputs": [
    {
     "data": {
      "text/plain": [
       "<module 'LingerGRN.LINGER_tr' from '/home/andrem/GRN-project/workflow/.snakemake/conda/76d78891a26d915bcb4ceb8a190f4007_/lib/python3.10/site-packages/LingerGRN/LINGER_tr.py'>"
      ]
     },
     "execution_count": 44,
     "metadata": {},
     "output_type": "execute_result"
    }
   ],
   "source": [
    "\n",
    "import importlib\n",
    "importlib.reload(LINGER_tr)\n"
   ]
  },
  {
   "cell_type": "code",
   "execution_count": 45,
   "id": "d17c5dea",
   "metadata": {},
   "outputs": [
    {
     "name": "stdout",
     "output_type": "stream",
     "text": [
      "chr1\n"
     ]
    },
    {
     "name": "stderr",
     "output_type": "stream",
     "text": [
      "100%|██████████| 1318/1318 [42:47<00:00,  1.95s/it]\n"
     ]
    },
    {
     "name": "stdout",
     "output_type": "stream",
     "text": [
      "chr2\n"
     ]
    },
    {
     "name": "stderr",
     "output_type": "stream",
     "text": [
      "100%|██████████| 853/853 [26:10<00:00,  1.84s/it]\n"
     ]
    },
    {
     "name": "stdout",
     "output_type": "stream",
     "text": [
      "chr3\n"
     ]
    },
    {
     "name": "stderr",
     "output_type": "stream",
     "text": [
      "100%|██████████| 732/732 [22:44<00:00,  1.86s/it]\n"
     ]
    },
    {
     "name": "stdout",
     "output_type": "stream",
     "text": [
      "chr4\n"
     ]
    },
    {
     "name": "stderr",
     "output_type": "stream",
     "text": [
      "100%|██████████| 443/443 [12:42<00:00,  1.72s/it]\n"
     ]
    },
    {
     "name": "stdout",
     "output_type": "stream",
     "text": [
      "chr5\n"
     ]
    },
    {
     "name": "stderr",
     "output_type": "stream",
     "text": [
      "100%|██████████| 563/563 [16:45<00:00,  1.79s/it]\n"
     ]
    },
    {
     "name": "stdout",
     "output_type": "stream",
     "text": [
      "chr6\n"
     ]
    },
    {
     "name": "stderr",
     "output_type": "stream",
     "text": [
      "100%|██████████| 642/642 [20:40<00:00,  1.93s/it]\n"
     ]
    },
    {
     "name": "stdout",
     "output_type": "stream",
     "text": [
      "chr7\n"
     ]
    },
    {
     "name": "stderr",
     "output_type": "stream",
     "text": [
      "100%|██████████| 568/568 [17:30<00:00,  1.85s/it]\n"
     ]
    },
    {
     "name": "stdout",
     "output_type": "stream",
     "text": [
      "chr8\n"
     ]
    },
    {
     "name": "stderr",
     "output_type": "stream",
     "text": [
      "100%|██████████| 410/410 [12:37<00:00,  1.85s/it]\n"
     ]
    },
    {
     "name": "stdout",
     "output_type": "stream",
     "text": [
      "chr9\n"
     ]
    },
    {
     "name": "stderr",
     "output_type": "stream",
     "text": [
      "100%|██████████| 493/493 [16:42<00:00,  2.03s/it]\n"
     ]
    },
    {
     "name": "stdout",
     "output_type": "stream",
     "text": [
      "chr10\n"
     ]
    },
    {
     "name": "stderr",
     "output_type": "stream",
     "text": [
      "100%|██████████| 474/474 [14:29<00:00,  1.84s/it]\n"
     ]
    },
    {
     "name": "stdout",
     "output_type": "stream",
     "text": [
      "chr11\n"
     ]
    },
    {
     "name": "stderr",
     "output_type": "stream",
     "text": [
      "100%|██████████| 746/746 [25:32<00:00,  2.05s/it]\n"
     ]
    },
    {
     "name": "stdout",
     "output_type": "stream",
     "text": [
      "chr12\n"
     ]
    },
    {
     "name": "stderr",
     "output_type": "stream",
     "text": [
      "100%|██████████| 703/703 [23:15<00:00,  1.99s/it]\n"
     ]
    },
    {
     "name": "stdout",
     "output_type": "stream",
     "text": [
      "chr13\n"
     ]
    },
    {
     "name": "stderr",
     "output_type": "stream",
     "text": [
      "100%|██████████| 213/213 [06:20<00:00,  1.79s/it]\n"
     ]
    },
    {
     "name": "stdout",
     "output_type": "stream",
     "text": [
      "chr14\n"
     ]
    },
    {
     "name": "stderr",
     "output_type": "stream",
     "text": [
      "100%|██████████| 418/418 [13:21<00:00,  1.92s/it]\n"
     ]
    },
    {
     "name": "stdout",
     "output_type": "stream",
     "text": [
      "chr15\n"
     ]
    },
    {
     "name": "stderr",
     "output_type": "stream",
     "text": [
      "100%|██████████| 403/403 [12:46<00:00,  1.90s/it]\n"
     ]
    },
    {
     "name": "stdout",
     "output_type": "stream",
     "text": [
      "chr16\n"
     ]
    },
    {
     "name": "stderr",
     "output_type": "stream",
     "text": [
      "100%|██████████| 623/623 [22:34<00:00,  2.17s/it]\n"
     ]
    },
    {
     "name": "stdout",
     "output_type": "stream",
     "text": [
      "chr17\n"
     ]
    },
    {
     "name": "stderr",
     "output_type": "stream",
     "text": [
      "100%|██████████| 776/776 [29:17<00:00,  2.27s/it]\n"
     ]
    },
    {
     "name": "stdout",
     "output_type": "stream",
     "text": [
      "chr18\n"
     ]
    },
    {
     "name": "stderr",
     "output_type": "stream",
     "text": [
      "100%|██████████| 172/172 [04:55<00:00,  1.72s/it]\n"
     ]
    },
    {
     "name": "stdout",
     "output_type": "stream",
     "text": [
      "chr19\n"
     ]
    },
    {
     "name": "stderr",
     "output_type": "stream",
     "text": [
      "100%|██████████| 1046/1046 [39:51<00:00,  2.29s/it]\n"
     ]
    },
    {
     "name": "stdout",
     "output_type": "stream",
     "text": [
      "chr20\n"
     ]
    },
    {
     "name": "stderr",
     "output_type": "stream",
     "text": [
      "100%|██████████| 349/349 [11:44<00:00,  2.02s/it]\n"
     ]
    },
    {
     "name": "stdout",
     "output_type": "stream",
     "text": [
      "chr21\n"
     ]
    },
    {
     "name": "stderr",
     "output_type": "stream",
     "text": [
      "100%|██████████| 117/117 [03:46<00:00,  1.94s/it]\n"
     ]
    },
    {
     "name": "stdout",
     "output_type": "stream",
     "text": [
      "chr22\n"
     ]
    },
    {
     "name": "stderr",
     "output_type": "stream",
     "text": [
      "100%|██████████| 319/319 [11:32<00:00,  2.17s/it]\n"
     ]
    },
    {
     "name": "stdout",
     "output_type": "stream",
     "text": [
      "chrX\n"
     ]
    },
    {
     "name": "stderr",
     "output_type": "stream",
     "text": [
      "100%|██████████| 421/421 [11:26<00:00,  1.63s/it]\n"
     ]
    }
   ],
   "source": [
    "LINGER_tr.training(GRNdir, method, outdir, activation, \"hg38\")"
   ]
  },
  {
   "cell_type": "code",
   "execution_count": 58,
   "id": "99fa9916",
   "metadata": {},
   "outputs": [
    {
     "data": {
      "text/plain": [
       "<module 'LingerGRN.LL_net' from '/home/andrem/GRN-project/workflow/.snakemake/conda/76d78891a26d915bcb4ceb8a190f4007_/lib/python3.10/site-packages/LingerGRN/LL_net.py'>"
      ]
     },
     "execution_count": 58,
     "metadata": {},
     "output_type": "execute_result"
    }
   ],
   "source": [
    "import importlib\n",
    "importlib.reload(LingerGRN.LL_net)\n"
   ]
  },
  {
   "cell_type": "code",
   "execution_count": null,
   "id": "fa9747ca",
   "metadata": {},
   "outputs": [
    {
     "name": "stdout",
     "output_type": "stream",
     "text": [
      "Generating cellular population TF binding strength ...\n"
     ]
    },
    {
     "name": "stderr",
     "output_type": "stream",
     "text": [
      "  0%|          | 0/23 [00:00<?, ?it/s]"
     ]
    },
    {
     "name": "stdout",
     "output_type": "stream",
     "text": [
      "Generating cellular population TF binding strength for chr1\n"
     ]
    },
    {
     "name": "stderr",
     "output_type": "stream",
     "text": [
      "100%|██████████| 26/26 [09:26<00:00, 21.77s/it]\n",
      "  4%|▍         | 1/23 [09:45<3:34:31, 585.08s/it]"
     ]
    },
    {
     "name": "stdout",
     "output_type": "stream",
     "text": [
      "Generating cellular population TF binding strength for chr2\n"
     ]
    },
    {
     "name": "stderr",
     "output_type": "stream",
     "text": [
      "100%|██████████| 17/17 [04:16<00:00, 15.11s/it]\n",
      "  9%|▊         | 2/23 [14:14<2:19:45, 399.33s/it]"
     ]
    },
    {
     "name": "stdout",
     "output_type": "stream",
     "text": [
      "Generating cellular population TF binding strength for chr3\n"
     ]
    },
    {
     "name": "stderr",
     "output_type": "stream",
     "text": [
      "100%|██████████| 14/14 [03:43<00:00, 15.94s/it]\n",
      " 13%|█▎        | 3/23 [18:19<1:49:40, 329.03s/it]"
     ]
    },
    {
     "name": "stdout",
     "output_type": "stream",
     "text": [
      "Generating cellular population TF binding strength for chr4\n"
     ]
    },
    {
     "name": "stderr",
     "output_type": "stream",
     "text": [
      "100%|██████████| 8/8 [01:27<00:00, 10.90s/it]\n",
      " 17%|█▋        | 4/23 [19:59<1:15:30, 238.44s/it]"
     ]
    },
    {
     "name": "stdout",
     "output_type": "stream",
     "text": [
      "Generating cellular population TF binding strength for chr5\n"
     ]
    },
    {
     "name": "stderr",
     "output_type": "stream",
     "text": [
      "100%|██████████| 11/11 [02:36<00:00, 14.22s/it]\n",
      " 22%|██▏       | 5/23 [22:45<1:03:44, 212.48s/it]"
     ]
    },
    {
     "name": "stdout",
     "output_type": "stream",
     "text": [
      "Generating cellular population TF binding strength for chr6\n"
     ]
    },
    {
     "name": "stderr",
     "output_type": "stream",
     "text": [
      "100%|██████████| 12/12 [04:03<00:00, 20.26s/it]\n",
      " 26%|██▌       | 6/23 [27:10<1:05:16, 230.39s/it]"
     ]
    },
    {
     "name": "stdout",
     "output_type": "stream",
     "text": [
      "Generating cellular population TF binding strength for chr7\n"
     ]
    },
    {
     "name": "stderr",
     "output_type": "stream",
     "text": [
      "100%|██████████| 11/11 [02:51<00:00, 15.61s/it]\n",
      " 30%|███       | 7/23 [30:11<57:05, 214.12s/it]  "
     ]
    },
    {
     "name": "stdout",
     "output_type": "stream",
     "text": [
      "Generating cellular population TF binding strength for chr8\n"
     ]
    },
    {
     "name": "stderr",
     "output_type": "stream",
     "text": [
      "100%|██████████| 8/8 [02:03<00:00, 15.42s/it]\n",
      " 35%|███▍      | 8/23 [32:23<46:59, 187.95s/it]"
     ]
    },
    {
     "name": "stdout",
     "output_type": "stream",
     "text": [
      "Generating cellular population TF binding strength for chr9\n"
     ]
    },
    {
     "name": "stderr",
     "output_type": "stream",
     "text": [
      "100%|██████████| 9/9 [03:02<00:00, 20.31s/it]\n",
      " 39%|███▉      | 9/23 [36:31<48:14, 206.75s/it]"
     ]
    },
    {
     "name": "stdout",
     "output_type": "stream",
     "text": [
      "Generating cellular population TF binding strength for chr10\n"
     ]
    },
    {
     "name": "stderr",
     "output_type": "stream",
     "text": [
      "100%|██████████| 9/9 [02:13<00:00, 14.88s/it]\n",
      " 43%|████▎     | 10/23 [38:59<40:52, 188.62s/it]"
     ]
    },
    {
     "name": "stdout",
     "output_type": "stream",
     "text": [
      "Generating cellular population TF binding strength for chr11\n"
     ]
    },
    {
     "name": "stderr",
     "output_type": "stream",
     "text": [
      "100%|██████████| 14/14 [06:30<00:00, 27.93s/it]\n",
      " 48%|████▊     | 11/23 [45:48<51:11, 256.00s/it]"
     ]
    },
    {
     "name": "stdout",
     "output_type": "stream",
     "text": [
      "Generating cellular population TF binding strength for chr12\n"
     ]
    },
    {
     "name": "stderr",
     "output_type": "stream",
     "text": [
      "100%|██████████| 14/14 [05:02<00:00, 21.63s/it]\n",
      " 52%|█████▏    | 12/23 [50:58<49:58, 272.57s/it]"
     ]
    },
    {
     "name": "stdout",
     "output_type": "stream",
     "text": [
      "Generating cellular population TF binding strength for chr13\n"
     ]
    },
    {
     "name": "stderr",
     "output_type": "stream",
     "text": [
      "100%|██████████| 4/4 [00:47<00:00, 11.87s/it]\n",
      " 57%|█████▋    | 13/23 [51:57<34:37, 207.71s/it]"
     ]
    },
    {
     "name": "stdout",
     "output_type": "stream",
     "text": [
      "Generating cellular population TF binding strength for chr14\n"
     ]
    },
    {
     "name": "stderr",
     "output_type": "stream",
     "text": [
      "100%|██████████| 8/8 [02:21<00:00, 17.73s/it]\n",
      " 61%|██████    | 14/23 [54:35<28:53, 192.62s/it]"
     ]
    },
    {
     "name": "stdout",
     "output_type": "stream",
     "text": [
      "Generating cellular population TF binding strength for chr15\n"
     ]
    },
    {
     "name": "stderr",
     "output_type": "stream",
     "text": [
      "100%|██████████| 8/8 [02:23<00:00, 17.94s/it]\n",
      " 65%|██████▌   | 15/23 [57:04<23:56, 179.60s/it]"
     ]
    },
    {
     "name": "stdout",
     "output_type": "stream",
     "text": [
      "Generating cellular population TF binding strength for chr16\n"
     ]
    },
    {
     "name": "stderr",
     "output_type": "stream",
     "text": [
      "100%|██████████| 12/12 [06:00<00:00, 30.01s/it]\n",
      " 70%|██████▉   | 16/23 [1:03:29<28:10, 241.48s/it]"
     ]
    },
    {
     "name": "stdout",
     "output_type": "stream",
     "text": [
      "Generating cellular population TF binding strength for chr17\n"
     ]
    },
    {
     "name": "stderr",
     "output_type": "stream",
     "text": [
      "100%|██████████| 15/15 [08:32<00:00, 34.15s/it]\n",
      " 74%|███████▍  | 17/23 [1:12:41<33:28, 334.74s/it]"
     ]
    },
    {
     "name": "stdout",
     "output_type": "stream",
     "text": [
      "Generating cellular population TF binding strength for chr18\n"
     ]
    },
    {
     "name": "stderr",
     "output_type": "stream",
     "text": [
      "100%|██████████| 3/3 [00:30<00:00, 10.04s/it]\n",
      " 78%|███████▊  | 18/23 [1:13:19<20:28, 245.72s/it]"
     ]
    },
    {
     "name": "stdout",
     "output_type": "stream",
     "text": [
      "Generating cellular population TF binding strength for chr19\n"
     ]
    },
    {
     "name": "stderr",
     "output_type": "stream",
     "text": [
      "100%|██████████| 20/20 [13:37<00:00, 40.89s/it]\n",
      " 83%|████████▎ | 19/23 [1:27:16<28:12, 423.09s/it]"
     ]
    },
    {
     "name": "stdout",
     "output_type": "stream",
     "text": [
      "Generating cellular population TF binding strength for chr20\n"
     ]
    },
    {
     "name": "stderr",
     "output_type": "stream",
     "text": [
      "100%|██████████| 6/6 [02:05<00:00, 20.87s/it]\n",
      " 87%|████████▋ | 20/23 [1:30:01<17:17, 345.74s/it]"
     ]
    },
    {
     "name": "stdout",
     "output_type": "stream",
     "text": [
      "Generating cellular population TF binding strength for chr21\n"
     ]
    },
    {
     "name": "stderr",
     "output_type": "stream",
     "text": [
      "100%|██████████| 2/2 [00:38<00:00, 19.26s/it]\n",
      " 91%|█████████▏| 21/23 [1:30:48<08:32, 256.19s/it]"
     ]
    },
    {
     "name": "stdout",
     "output_type": "stream",
     "text": [
      "Generating cellular population TF binding strength for chr22\n"
     ]
    },
    {
     "name": "stderr",
     "output_type": "stream",
     "text": [
      "100%|██████████| 6/6 [03:08<00:00, 31.37s/it]\n",
      " 96%|█████████▌| 22/23 [1:34:12<04:00, 240.44s/it]"
     ]
    },
    {
     "name": "stdout",
     "output_type": "stream",
     "text": [
      "Generating cellular population TF binding strength for chrX\n"
     ]
    },
    {
     "name": "stderr",
     "output_type": "stream",
     "text": [
      "100%|██████████| 8/8 [01:05<00:00,  8.21s/it]\n",
      "100%|██████████| 23/23 [1:35:26<00:00, 248.97s/it]\n",
      "  0%|          | 0/23 [00:17<?, ?it/s]\n"
     ]
    },
    {
     "ename": "UnpicklingError",
     "evalue": "Weights only load failed. This file can still be loaded, to do so you have two options, \u001b[1mdo those steps only if you trust the source of the checkpoint\u001b[0m. \n\t(1) In PyTorch 2.6, we changed the default value of the `weights_only` argument in `torch.load` from `False` to `True`. Re-running `torch.load` with `weights_only` set to `False` will likely succeed, but it can result in arbitrary code execution. Do it only if you got the file from a trusted source.\n\t(2) Alternatively, to load with `weights_only=True` please check the recommended steps in the following error message.\n\tWeightsUnpickler error: Unsupported global: GLOBAL numpy.core.multiarray.scalar was not an allowed global by default. Please use `torch.serialization.add_safe_globals([numpy.core.multiarray.scalar])` or the `torch.serialization.safe_globals([numpy.core.multiarray.scalar])` context manager to allowlist this global if you trust this class/function.\n\nCheck the documentation of torch.load to learn more about types accepted by default with weights_only https://pytorch.org/docs/stable/generated/torch.load.html.",
     "output_type": "error",
     "traceback": [
      "\u001b[0;31m---------------------------------------------------------------------------\u001b[0m",
      "\u001b[0;31mUnpicklingError\u001b[0m                           Traceback (most recent call last)",
      "Cell \u001b[0;32mIn[55], line 3\u001b[0m\n\u001b[1;32m      1\u001b[0m \u001b[38;5;66;03m# Cell 7: Build Cell Population GRN\u001b[39;00m\n\u001b[1;32m      2\u001b[0m LL_net\u001b[38;5;241m.\u001b[39mTF_RE_binding(GRNdir, adata_RNA, adata_ATAC, genome, method, outdir)\n\u001b[0;32m----> 3\u001b[0m \u001b[43mLL_net\u001b[49m\u001b[38;5;241;43m.\u001b[39;49m\u001b[43mcis_reg\u001b[49m\u001b[43m(\u001b[49m\u001b[43mGRNdir\u001b[49m\u001b[43m,\u001b[49m\u001b[43m \u001b[49m\u001b[43madata_RNA\u001b[49m\u001b[43m,\u001b[49m\u001b[43m \u001b[49m\u001b[43madata_ATAC\u001b[49m\u001b[43m,\u001b[49m\u001b[43m \u001b[49m\u001b[43mgenome\u001b[49m\u001b[43m,\u001b[49m\u001b[43m \u001b[49m\u001b[43mmethod\u001b[49m\u001b[43m,\u001b[49m\u001b[43m \u001b[49m\u001b[43moutdir\u001b[49m\u001b[43m)\u001b[49m\n\u001b[1;32m      4\u001b[0m LL_net\u001b[38;5;241m.\u001b[39mtrans_reg(GRNdir, method, outdir)\n",
      "File \u001b[0;32m~/GRN-project/workflow/.snakemake/conda/76d78891a26d915bcb4ceb8a190f4007_/lib/python3.10/site-packages/LingerGRN/LL_net.py:846\u001b[0m, in \u001b[0;36mcis_reg\u001b[0;34m(GRNdir, adata_RNA, adata_ATAC, genome, method, outdir)\u001b[0m\n\u001b[1;32m    844\u001b[0m     \u001b[38;5;28;01mfor\u001b[39;00m i \u001b[38;5;129;01min\u001b[39;00m tqdm(\u001b[38;5;28mrange\u001b[39m(\u001b[38;5;241m23\u001b[39m)):\n\u001b[1;32m    845\u001b[0m         chrN\u001b[38;5;241m=\u001b[39mchrom[i]\n\u001b[0;32m--> 846\u001b[0m         temp\u001b[38;5;241m=\u001b[39m\u001b[43mcis_shap\u001b[49m\u001b[43m(\u001b[49m\u001b[43mchrN\u001b[49m\u001b[43m,\u001b[49m\u001b[43moutdir\u001b[49m\u001b[43m)\u001b[49m\n\u001b[1;32m    847\u001b[0m         result\u001b[38;5;241m=\u001b[39mpd\u001b[38;5;241m.\u001b[39mconcat([result,temp],axis\u001b[38;5;241m=\u001b[39m\u001b[38;5;241m0\u001b[39m,join\u001b[38;5;241m=\u001b[39m\u001b[38;5;124m'\u001b[39m\u001b[38;5;124mouter\u001b[39m\u001b[38;5;124m'\u001b[39m)\n\u001b[1;32m    848\u001b[0m \u001b[38;5;28;01mif\u001b[39;00m method\u001b[38;5;241m==\u001b[39m\u001b[38;5;124m'\u001b[39m\u001b[38;5;124mscNN\u001b[39m\u001b[38;5;124m'\u001b[39m:\n",
      "File \u001b[0;32m~/GRN-project/workflow/.snakemake/conda/76d78891a26d915bcb4ceb8a190f4007_/lib/python3.10/site-packages/LingerGRN/LL_net.py:619\u001b[0m, in \u001b[0;36mcis_shap\u001b[0;34m(chr, outdir)\u001b[0m\n\u001b[1;32m    617\u001b[0m TG_2\u001b[38;5;241m=\u001b[39m[]\n\u001b[1;32m    618\u001b[0m score_2\u001b[38;5;241m=\u001b[39m[]\n\u001b[0;32m--> 619\u001b[0m data_merge_temp,geneName,REindex,TFindex,shap_all,TFName,REName\u001b[38;5;241m=\u001b[39m\u001b[43mload_shap\u001b[49m\u001b[43m(\u001b[49m\u001b[38;5;28;43mchr\u001b[39;49m\u001b[43m,\u001b[49m\u001b[43moutdir\u001b[49m\u001b[43m)\u001b[49m\n\u001b[1;32m    620\u001b[0m \u001b[38;5;28;01mfrom\u001b[39;00m\u001b[38;5;250m \u001b[39m\u001b[38;5;21;01mtqdm\u001b[39;00m\u001b[38;5;250m \u001b[39m\u001b[38;5;28;01mimport\u001b[39;00m tqdm\n\u001b[1;32m    621\u001b[0m \u001b[38;5;28;01mfor\u001b[39;00m j \u001b[38;5;129;01min\u001b[39;00m tqdm(\u001b[38;5;28mrange\u001b[39m(data_merge_temp\u001b[38;5;241m.\u001b[39mshape[\u001b[38;5;241m0\u001b[39m])):\n",
      "File \u001b[0;32m~/GRN-project/workflow/.snakemake/conda/76d78891a26d915bcb4ceb8a190f4007_/lib/python3.10/site-packages/LingerGRN/LL_net.py:587\u001b[0m, in \u001b[0;36mload_shap\u001b[0;34m(chr, outdir)\u001b[0m\n\u001b[1;32m    585\u001b[0m \u001b[38;5;28;01mimport\u001b[39;00m\u001b[38;5;250m \u001b[39m\u001b[38;5;21;01mcsv\u001b[39;00m\n\u001b[1;32m    586\u001b[0m \u001b[38;5;66;03m#print('loading shapley value '+chr+' ...')\u001b[39;00m\n\u001b[0;32m--> 587\u001b[0m shap_all\u001b[38;5;241m=\u001b[39m\u001b[43mtorch\u001b[49m\u001b[38;5;241;43m.\u001b[39;49m\u001b[43mload\u001b[49m\u001b[43m(\u001b[49m\u001b[43moutdir\u001b[49m\u001b[38;5;241;43m+\u001b[39;49m\u001b[38;5;124;43m\"\u001b[39;49m\u001b[38;5;124;43mshap_\u001b[39;49m\u001b[38;5;124;43m\"\u001b[39;49m\u001b[38;5;241;43m+\u001b[39;49m\u001b[38;5;28;43mchr\u001b[39;49m\u001b[38;5;241;43m+\u001b[39;49m\u001b[38;5;124;43m\"\u001b[39;49m\u001b[38;5;124;43m.pt\u001b[39;49m\u001b[38;5;124;43m\"\u001b[39;49m\u001b[43m)\u001b[49m\n\u001b[1;32m    588\u001b[0m \u001b[38;5;28;01mimport\u001b[39;00m\u001b[38;5;250m \u001b[39m\u001b[38;5;21;01mpandas\u001b[39;00m\u001b[38;5;250m \u001b[39m\u001b[38;5;28;01mas\u001b[39;00m\u001b[38;5;250m \u001b[39m\u001b[38;5;21;01mpd\u001b[39;00m\n\u001b[1;32m    589\u001b[0m idx_file\u001b[38;5;241m=\u001b[39moutdir\u001b[38;5;241m+\u001b[39m\u001b[38;5;124m'\u001b[39m\u001b[38;5;124mindex.txt\u001b[39m\u001b[38;5;124m'\u001b[39m\n",
      "File \u001b[0;32m~/GRN-project/workflow/.snakemake/conda/76d78891a26d915bcb4ceb8a190f4007_/lib/python3.10/site-packages/torch/serialization.py:1524\u001b[0m, in \u001b[0;36mload\u001b[0;34m(f, map_location, pickle_module, weights_only, mmap, **pickle_load_args)\u001b[0m\n\u001b[1;32m   1516\u001b[0m                 \u001b[38;5;28;01mreturn\u001b[39;00m _load(\n\u001b[1;32m   1517\u001b[0m                     opened_zipfile,\n\u001b[1;32m   1518\u001b[0m                     map_location,\n\u001b[0;32m   (...)\u001b[0m\n\u001b[1;32m   1521\u001b[0m                     \u001b[38;5;241m*\u001b[39m\u001b[38;5;241m*\u001b[39mpickle_load_args,\n\u001b[1;32m   1522\u001b[0m                 )\n\u001b[1;32m   1523\u001b[0m             \u001b[38;5;28;01mexcept\u001b[39;00m pickle\u001b[38;5;241m.\u001b[39mUnpicklingError \u001b[38;5;28;01mas\u001b[39;00m e:\n\u001b[0;32m-> 1524\u001b[0m                 \u001b[38;5;28;01mraise\u001b[39;00m pickle\u001b[38;5;241m.\u001b[39mUnpicklingError(_get_wo_message(\u001b[38;5;28mstr\u001b[39m(e))) \u001b[38;5;28;01mfrom\u001b[39;00m\u001b[38;5;250m \u001b[39m\u001b[38;5;28;01mNone\u001b[39;00m\n\u001b[1;32m   1525\u001b[0m         \u001b[38;5;28;01mreturn\u001b[39;00m _load(\n\u001b[1;32m   1526\u001b[0m             opened_zipfile,\n\u001b[1;32m   1527\u001b[0m             map_location,\n\u001b[0;32m   (...)\u001b[0m\n\u001b[1;32m   1530\u001b[0m             \u001b[38;5;241m*\u001b[39m\u001b[38;5;241m*\u001b[39mpickle_load_args,\n\u001b[1;32m   1531\u001b[0m         )\n\u001b[1;32m   1532\u001b[0m \u001b[38;5;28;01mif\u001b[39;00m mmap:\n",
      "\u001b[0;31mUnpicklingError\u001b[0m: Weights only load failed. This file can still be loaded, to do so you have two options, \u001b[1mdo those steps only if you trust the source of the checkpoint\u001b[0m. \n\t(1) In PyTorch 2.6, we changed the default value of the `weights_only` argument in `torch.load` from `False` to `True`. Re-running `torch.load` with `weights_only` set to `False` will likely succeed, but it can result in arbitrary code execution. Do it only if you got the file from a trusted source.\n\t(2) Alternatively, to load with `weights_only=True` please check the recommended steps in the following error message.\n\tWeightsUnpickler error: Unsupported global: GLOBAL numpy.core.multiarray.scalar was not an allowed global by default. Please use `torch.serialization.add_safe_globals([numpy.core.multiarray.scalar])` or the `torch.serialization.safe_globals([numpy.core.multiarray.scalar])` context manager to allowlist this global if you trust this class/function.\n\nCheck the documentation of torch.load to learn more about types accepted by default with weights_only https://pytorch.org/docs/stable/generated/torch.load.html."
     ]
    }
   ],
   "source": [
    "# Cell 7: Build Cell Population GRN\n",
    "LL_net.TF_RE_binding(GRNdir, adata_RNA, adata_ATAC, genome, method, outdir)\n",
    "\n"
   ]
  },
  {
   "cell_type": "code",
   "execution_count": 59,
   "id": "de3d7453",
   "metadata": {},
   "outputs": [
    {
     "name": "stderr",
     "output_type": "stream",
     "text": [
      "100%|██████████| 1318/1318 [00:01<00:00, 1189.20it/s]\n",
      "100%|██████████| 853/853 [00:00<00:00, 1621.24it/s]\n",
      "100%|██████████| 732/732 [00:00<00:00, 1509.12it/s]\n",
      "100%|██████████| 443/443 [00:00<00:00, 1930.89it/s]\n",
      "100%|██████████| 563/563 [00:00<00:00, 1874.48it/s]\n",
      "100%|██████████| 642/642 [00:00<00:00, 1554.50it/s]\n",
      "100%|██████████| 568/568 [00:00<00:00, 1928.83it/s]\n",
      "100%|██████████| 410/410 [00:00<00:00, 1736.30it/s]\n",
      "100%|██████████| 493/493 [00:00<00:00, 1157.01it/s]\n",
      "100%|██████████| 474/474 [00:00<00:00, 1868.75it/s]\n",
      "100%|██████████| 746/746 [00:00<00:00, 1414.50it/s]\n",
      "100%|██████████| 703/703 [00:00<00:00, 1234.34it/s]\n",
      "100%|██████████| 213/213 [00:00<00:00, 1595.60it/s]\n",
      "100%|██████████| 418/418 [00:00<00:00, 1724.05it/s]\n",
      "100%|██████████| 403/403 [00:00<00:00, 1269.07it/s]\n",
      "100%|██████████| 623/623 [00:00<00:00, 1245.16it/s]\n",
      "100%|██████████| 776/776 [00:00<00:00, 1058.98it/s]\n",
      "100%|██████████| 172/172 [00:00<00:00, 2094.40it/s]\n",
      "100%|██████████| 1046/1046 [00:01<00:00, 964.26it/s] \n",
      "100%|██████████| 349/349 [00:00<00:00, 1387.62it/s]\n",
      "100%|██████████| 117/117 [00:00<00:00, 1300.71it/s]\n",
      "100%|██████████| 319/319 [00:00<00:00, 1352.40it/s]\n",
      "100%|██████████| 421/421 [00:00<00:00, 2268.76it/s]\n",
      "100%|██████████| 23/23 [03:19<00:00,  8.68s/it]\n"
     ]
    }
   ],
   "source": [
    "LL_net.cis_reg(GRNdir, adata_RNA, adata_ATAC, genome, method, outdir)\n"
   ]
  },
  {
   "cell_type": "code",
   "execution_count": 65,
   "id": "8b5c74a3",
   "metadata": {},
   "outputs": [
    {
     "name": "stdout",
     "output_type": "stream",
     "text": [
      "Generate trans-regulatory netowrk ...\n"
     ]
    },
    {
     "name": "stderr",
     "output_type": "stream",
     "text": [
      "  0%|          | 0/23 [00:00<?, ?it/s]Exception ignored in: <bound method IPythonKernel._clean_thread_parent_frames of <ipykernel.ipkernel.IPythonKernel object at 0x7fbdff983880>>\n",
      "Traceback (most recent call last):\n",
      "  File \"/home/andrem/GRN-project/workflow/.snakemake/conda/76d78891a26d915bcb4ceb8a190f4007_/lib/python3.10/site-packages/ipykernel/ipkernel.py\", line 775, in _clean_thread_parent_frames\n",
      "    def _clean_thread_parent_frames(\n",
      "KeyboardInterrupt: \n",
      "100%|██████████| 1318/1318 [00:00<00:00, 1777.34it/s]\n",
      "100%|██████████| 853/853 [00:00<00:00, 2087.70it/s]\n",
      "100%|██████████| 732/732 [00:00<00:00, 1759.16it/s]\n",
      "100%|██████████| 443/443 [00:00<00:00, 2007.39it/s]\n",
      " 17%|█▋        | 4/23 [00:25<02:01,  6.40s/it]\n"
     ]
    },
    {
     "ename": "KeyboardInterrupt",
     "evalue": "",
     "output_type": "error",
     "traceback": [
      "\u001b[0;31m---------------------------------------------------------------------------\u001b[0m",
      "\u001b[0;31mKeyboardInterrupt\u001b[0m                         Traceback (most recent call last)",
      "Cell \u001b[0;32mIn[65], line 1\u001b[0m\n\u001b[0;32m----> 1\u001b[0m \u001b[43mLL_net\u001b[49m\u001b[38;5;241;43m.\u001b[39;49m\u001b[43mtrans_reg\u001b[49m\u001b[43m(\u001b[49m\u001b[43mGRNdir\u001b[49m\u001b[43m,\u001b[49m\u001b[43m \u001b[49m\u001b[43mmethod\u001b[49m\u001b[43m,\u001b[49m\u001b[43m \u001b[49m\u001b[43moutdir\u001b[49m\u001b[43m,\u001b[49m\u001b[43m \u001b[49m\u001b[43mgenome\u001b[49m\u001b[43m)\u001b[49m\n",
      "File \u001b[0;32m~/GRN-project/workflow/.snakemake/conda/76d78891a26d915bcb4ceb8a190f4007_/lib/python3.10/site-packages/LingerGRN/LL_net.py:1098\u001b[0m, in \u001b[0;36mtrans_reg\u001b[0;34m(GRNdir, method, outdir, genome)\u001b[0m\n\u001b[1;32m   1096\u001b[0m     \u001b[38;5;28;01mfor\u001b[39;00m i \u001b[38;5;129;01min\u001b[39;00m tqdm(\u001b[38;5;28mrange\u001b[39m(\u001b[38;5;241m23\u001b[39m)):\n\u001b[1;32m   1097\u001b[0m         chrN\u001b[38;5;241m=\u001b[39mchrom[i]\n\u001b[0;32m-> 1098\u001b[0m         temp\u001b[38;5;241m=\u001b[39m\u001b[43mtrans_shap\u001b[49m\u001b[43m(\u001b[49m\u001b[43mchrN\u001b[49m\u001b[43m,\u001b[49m\u001b[43moutdir\u001b[49m\u001b[43m)\u001b[49m\n\u001b[1;32m   1099\u001b[0m         S\u001b[38;5;241m=\u001b[39mpd\u001b[38;5;241m.\u001b[39mconcat([S,temp],axis\u001b[38;5;241m=\u001b[39m\u001b[38;5;241m0\u001b[39m,join\u001b[38;5;241m=\u001b[39m\u001b[38;5;124m'\u001b[39m\u001b[38;5;124mouter\u001b[39m\u001b[38;5;124m'\u001b[39m)\n\u001b[1;32m   1100\u001b[0m \u001b[38;5;28;01melif\u001b[39;00m method\u001b[38;5;241m==\u001b[39m\u001b[38;5;124m'\u001b[39m\u001b[38;5;124mscNN\u001b[39m\u001b[38;5;124m'\u001b[39m:\n",
      "File \u001b[0;32m~/GRN-project/workflow/.snakemake/conda/76d78891a26d915bcb4ceb8a190f4007_/lib/python3.10/site-packages/LingerGRN/LL_net.py:651\u001b[0m, in \u001b[0;36mtrans_shap\u001b[0;34m(chr, outdir)\u001b[0m\n\u001b[1;32m    649\u001b[0m TF_1\u001b[38;5;241m=\u001b[39m[]\n\u001b[1;32m    650\u001b[0m score_1\u001b[38;5;241m=\u001b[39m[]\n\u001b[0;32m--> 651\u001b[0m data_merge_temp,geneName,REindex,TFindex,shap_all,TFName,REName\u001b[38;5;241m=\u001b[39m\u001b[43mload_shap\u001b[49m\u001b[43m(\u001b[49m\u001b[38;5;28;43mchr\u001b[39;49m\u001b[43m,\u001b[49m\u001b[43moutdir\u001b[49m\u001b[43m)\u001b[49m\n\u001b[1;32m    652\u001b[0m \u001b[38;5;28;01mfrom\u001b[39;00m\u001b[38;5;250m \u001b[39m\u001b[38;5;21;01mtqdm\u001b[39;00m\u001b[38;5;250m \u001b[39m\u001b[38;5;28;01mimport\u001b[39;00m tqdm\n\u001b[1;32m    653\u001b[0m \u001b[38;5;28;01mfor\u001b[39;00m j \u001b[38;5;129;01min\u001b[39;00m tqdm(\u001b[38;5;28mrange\u001b[39m(data_merge_temp\u001b[38;5;241m.\u001b[39mshape[\u001b[38;5;241m0\u001b[39m])):\n",
      "File \u001b[0;32m~/GRN-project/workflow/.snakemake/conda/76d78891a26d915bcb4ceb8a190f4007_/lib/python3.10/site-packages/LingerGRN/LL_net.py:587\u001b[0m, in \u001b[0;36mload_shap\u001b[0;34m(chr, outdir)\u001b[0m\n\u001b[1;32m    585\u001b[0m \u001b[38;5;28;01mimport\u001b[39;00m\u001b[38;5;250m \u001b[39m\u001b[38;5;21;01mcsv\u001b[39;00m\n\u001b[1;32m    586\u001b[0m \u001b[38;5;66;03m#print('loading shapley value '+chr+' ...')\u001b[39;00m\n\u001b[0;32m--> 587\u001b[0m shap_all\u001b[38;5;241m=\u001b[39m\u001b[43mtorch\u001b[49m\u001b[38;5;241;43m.\u001b[39;49m\u001b[43mload\u001b[49m\u001b[43m(\u001b[49m\u001b[43moutdir\u001b[49m\u001b[38;5;241;43m+\u001b[39;49m\u001b[38;5;124;43m\"\u001b[39;49m\u001b[38;5;124;43mshap_\u001b[39;49m\u001b[38;5;124;43m\"\u001b[39;49m\u001b[38;5;241;43m+\u001b[39;49m\u001b[38;5;28;43mchr\u001b[39;49m\u001b[38;5;241;43m+\u001b[39;49m\u001b[38;5;124;43m\"\u001b[39;49m\u001b[38;5;124;43m.pt\u001b[39;49m\u001b[38;5;124;43m\"\u001b[39;49m\u001b[43m,\u001b[49m\u001b[43m \u001b[49m\u001b[43mweights_only\u001b[49m\u001b[38;5;241;43m=\u001b[39;49m\u001b[38;5;28;43;01mFalse\u001b[39;49;00m\u001b[43m)\u001b[49m\n\u001b[1;32m    588\u001b[0m \u001b[38;5;28;01mimport\u001b[39;00m\u001b[38;5;250m \u001b[39m\u001b[38;5;21;01mpandas\u001b[39;00m\u001b[38;5;250m \u001b[39m\u001b[38;5;28;01mas\u001b[39;00m\u001b[38;5;250m \u001b[39m\u001b[38;5;21;01mpd\u001b[39;00m\n\u001b[1;32m    589\u001b[0m idx_file\u001b[38;5;241m=\u001b[39moutdir\u001b[38;5;241m+\u001b[39m\u001b[38;5;124m'\u001b[39m\u001b[38;5;124mindex.txt\u001b[39m\u001b[38;5;124m'\u001b[39m\n",
      "File \u001b[0;32m~/GRN-project/workflow/.snakemake/conda/76d78891a26d915bcb4ceb8a190f4007_/lib/python3.10/site-packages/torch/serialization.py:1525\u001b[0m, in \u001b[0;36mload\u001b[0;34m(f, map_location, pickle_module, weights_only, mmap, **pickle_load_args)\u001b[0m\n\u001b[1;32m   1523\u001b[0m             \u001b[38;5;28;01mexcept\u001b[39;00m pickle\u001b[38;5;241m.\u001b[39mUnpicklingError \u001b[38;5;28;01mas\u001b[39;00m e:\n\u001b[1;32m   1524\u001b[0m                 \u001b[38;5;28;01mraise\u001b[39;00m pickle\u001b[38;5;241m.\u001b[39mUnpicklingError(_get_wo_message(\u001b[38;5;28mstr\u001b[39m(e))) \u001b[38;5;28;01mfrom\u001b[39;00m\u001b[38;5;250m \u001b[39m\u001b[38;5;28;01mNone\u001b[39;00m\n\u001b[0;32m-> 1525\u001b[0m         \u001b[38;5;28;01mreturn\u001b[39;00m \u001b[43m_load\u001b[49m\u001b[43m(\u001b[49m\n\u001b[1;32m   1526\u001b[0m \u001b[43m            \u001b[49m\u001b[43mopened_zipfile\u001b[49m\u001b[43m,\u001b[49m\n\u001b[1;32m   1527\u001b[0m \u001b[43m            \u001b[49m\u001b[43mmap_location\u001b[49m\u001b[43m,\u001b[49m\n\u001b[1;32m   1528\u001b[0m \u001b[43m            \u001b[49m\u001b[43mpickle_module\u001b[49m\u001b[43m,\u001b[49m\n\u001b[1;32m   1529\u001b[0m \u001b[43m            \u001b[49m\u001b[43moverall_storage\u001b[49m\u001b[38;5;241;43m=\u001b[39;49m\u001b[43moverall_storage\u001b[49m\u001b[43m,\u001b[49m\n\u001b[1;32m   1530\u001b[0m \u001b[43m            \u001b[49m\u001b[38;5;241;43m*\u001b[39;49m\u001b[38;5;241;43m*\u001b[39;49m\u001b[43mpickle_load_args\u001b[49m\u001b[43m,\u001b[49m\n\u001b[1;32m   1531\u001b[0m \u001b[43m        \u001b[49m\u001b[43m)\u001b[49m\n\u001b[1;32m   1532\u001b[0m \u001b[38;5;28;01mif\u001b[39;00m mmap:\n\u001b[1;32m   1533\u001b[0m     f_name \u001b[38;5;241m=\u001b[39m \u001b[38;5;124m\"\u001b[39m\u001b[38;5;124m\"\u001b[39m \u001b[38;5;28;01mif\u001b[39;00m \u001b[38;5;129;01mnot\u001b[39;00m \u001b[38;5;28misinstance\u001b[39m(f, \u001b[38;5;28mstr\u001b[39m) \u001b[38;5;28;01melse\u001b[39;00m \u001b[38;5;124mf\u001b[39m\u001b[38;5;124m\"\u001b[39m\u001b[38;5;132;01m{\u001b[39;00mf\u001b[38;5;132;01m}\u001b[39;00m\u001b[38;5;124m, \u001b[39m\u001b[38;5;124m\"\u001b[39m\n",
      "File \u001b[0;32m~/GRN-project/workflow/.snakemake/conda/76d78891a26d915bcb4ceb8a190f4007_/lib/python3.10/site-packages/torch/serialization.py:2114\u001b[0m, in \u001b[0;36m_load\u001b[0;34m(zip_file, map_location, pickle_module, pickle_file, overall_storage, **pickle_load_args)\u001b[0m\n\u001b[1;32m   2112\u001b[0m \u001b[38;5;28;01mglobal\u001b[39;00m _serialization_tls\n\u001b[1;32m   2113\u001b[0m _serialization_tls\u001b[38;5;241m.\u001b[39mmap_location \u001b[38;5;241m=\u001b[39m map_location\n\u001b[0;32m-> 2114\u001b[0m result \u001b[38;5;241m=\u001b[39m \u001b[43munpickler\u001b[49m\u001b[38;5;241;43m.\u001b[39;49m\u001b[43mload\u001b[49m\u001b[43m(\u001b[49m\u001b[43m)\u001b[49m\n\u001b[1;32m   2115\u001b[0m _serialization_tls\u001b[38;5;241m.\u001b[39mmap_location \u001b[38;5;241m=\u001b[39m \u001b[38;5;28;01mNone\u001b[39;00m\n\u001b[1;32m   2117\u001b[0m torch\u001b[38;5;241m.\u001b[39m_utils\u001b[38;5;241m.\u001b[39m_validate_loaded_sparse_tensors()\n",
      "\u001b[0;31mKeyboardInterrupt\u001b[0m: "
     ]
    }
   ],
   "source": [
    "LL_net.trans_reg(GRNdir, method, outdir, genome)"
   ]
  },
  {
   "cell_type": "code",
   "execution_count": 3,
   "id": "119e3f05",
   "metadata": {},
   "outputs": [],
   "source": [
    "import os\n",
    "import pandas as pd\n",
    "\n",
    "# Define paths\n",
    "#tfb_potential = os.path.join(outdir, 'cell_population_TF_RE_binding.txt')\n",
    "#re_tg = os.path.join(outdir, 'cell_population_cis_regulatory.txt')\n",
    "#tf_tg = os.path.join(outdir, 'cell_population_trans_regulatory.txt')\n",
    "\n",
    "tfb_potential = outdir + 'cell_population_TF_RE_binding.txt'\n",
    "re_tg = outdir + 'cell_population_cis_regulatory.txt'\n",
    "tf_tg = outdir + 'cell_population_trans_regulatory.txt'\n",
    "\n",
    "# 1. TF–RE binding matrix: rows = regions, columns = TFs\n",
    "df_tf_re = pd.read_csv(tfb_potential, sep=\"\\t\", index_col=0)\n",
    "\n",
    "# 2. cis-regulatory (region → gene with score): 3-column table\n",
    "df_re_tg = pd.read_csv(re_tg, sep=\"\\t\", header=None, names=[\"region\", \"target_gene\", \"score\"])\n",
    "\n",
    "# 3. trans-regulatory matrix: rows = genes, columns = TFs\n",
    "df_tf_tg = pd.read_csv(tf_tg, sep=\"\\t\", index_col=0)\n"
   ]
  },
  {
   "cell_type": "code",
   "execution_count": 4,
   "id": "253e5b7b",
   "metadata": {},
   "outputs": [],
   "source": [
    "# Filter to relevant genes only\n",
    "df_tf_tg = df_tf_tg.loc[df_tf_tg.index.intersection(df_re_tg[\"target_gene\"])]\n",
    "\n",
    "# Build filtered long-format TF-gene DataFrame: keep TFs with value ≥ median\n",
    "df_long = (\n",
    "    df_tf_tg[df_tf_tg.ge(df_tf_tg.median(axis=1), axis=0)]\n",
    "    .reset_index()\n",
    "    .melt(id_vars=\"index\", var_name=\"TF\", value_name=\"trans_reg_score\")\n",
    "    .rename(columns={\"index\": \"target_gene\"})\n",
    "    .dropna()\n",
    ")\n",
    "\n",
    "# Merge in region info\n",
    "df_result = df_re_tg.merge(df_long, on=\"target_gene\")[[\"region\", \"target_gene\", \"TF\", \"trans_reg_score\"]]"
   ]
  },
  {
   "cell_type": "code",
   "execution_count": 6,
   "id": "1d1a211a",
   "metadata": {},
   "outputs": [
    {
     "ename": "",
     "evalue": "",
     "output_type": "error",
     "traceback": [
      "\u001b[1;31mThe Kernel crashed while executing code in the current cell or a previous cell. \n",
      "\u001b[1;31mPlease review the code in the cell(s) to identify a possible cause of the failure. \n",
      "\u001b[1;31mClick <a href='https://aka.ms/vscodeJupyterKernelCrash'>here</a> for more info. \n",
      "\u001b[1;31mView Jupyter <a href='command:jupyter.viewOutput'>log</a> for further details."
     ]
    }
   ],
   "source": [
    "df_result = df_re_tg.merge(df_long, on=\"target_gene\")[[\"region\", \"target_gene\", \"TF\", \"score\", \"trans_reg_score\"]]"
   ]
  },
  {
   "cell_type": "code",
   "execution_count": 1,
   "id": "cc104f51",
   "metadata": {},
   "outputs": [
    {
     "name": "stdout",
     "output_type": "stream",
     "text": [
      "MuData object with n_obs × n_vars = 1 × 1\n",
      "  uns:\t'grn'\n",
      "  1 modality\n",
      "    dummy:\t1 x 1\n"
     ]
    },
    {
     "name": "stderr",
     "output_type": "stream",
     "text": [
      "/home/andrem/GRN-project/workflow/.snakemake/conda/28579784a80abe1728951ef551e7dea0_/lib/python3.10/site-packages/mudata/_core/mudata.py:1531: FutureWarning: From 0.4 .update() will not pull obs/var columns from individual modalities by default anymore. Set mudata.set_options(pull_on_update=False) to adopt the new behaviour, which will become the default. Use new pull_obs/pull_var and push_obs/push_var methods for more flexibility.\n",
      "  self._update_attr(\"var\", axis=0, join_common=join_common)\n",
      "/home/andrem/GRN-project/workflow/.snakemake/conda/28579784a80abe1728951ef551e7dea0_/lib/python3.10/site-packages/mudata/_core/mudata.py:1429: FutureWarning: From 0.4 .update() will not pull obs/var columns from individual modalities by default anymore. Set mudata.set_options(pull_on_update=False) to adopt the new behaviour, which will become the default. Use new pull_obs/pull_var and push_obs/push_var methods for more flexibility.\n",
      "  self._update_attr(\"obs\", axis=1, join_common=join_common)\n"
     ]
    }
   ],
   "source": [
    "import mudata as mu\n",
    "\n",
    "# Load the MuData object\n",
    "mdata = mu.read_h5mu(\"/data/tmpA/andrem/linger/out/AML12_DX_MO_scdart/GRN_final_mudata.h5mu\")\n",
    "\n",
    "# View what's inside\n",
    "print(mdata)"
   ]
  },
  {
   "cell_type": "code",
   "execution_count": 9,
   "id": "498beb47",
   "metadata": {},
   "outputs": [
    {
     "data": {
      "text/html": [
       "<div>\n",
       "<style scoped>\n",
       "    .dataframe tbody tr th:only-of-type {\n",
       "        vertical-align: middle;\n",
       "    }\n",
       "\n",
       "    .dataframe tbody tr th {\n",
       "        vertical-align: top;\n",
       "    }\n",
       "\n",
       "    .dataframe thead th {\n",
       "        text-align: right;\n",
       "    }\n",
       "</style>\n",
       "<table border=\"1\" class=\"dataframe\">\n",
       "  <thead>\n",
       "    <tr style=\"text-align: right;\">\n",
       "      <th></th>\n",
       "      <th>TF</th>\n",
       "      <th>Gene</th>\n",
       "      <th>Region</th>\n",
       "      <th>tf_tg_score</th>\n",
       "      <th>tg_re_score</th>\n",
       "      <th>tf_re_score</th>\n",
       "    </tr>\n",
       "  </thead>\n",
       "  <tbody>\n",
       "    <tr>\n",
       "      <th>0</th>\n",
       "      <td>ATF6</td>\n",
       "      <td>AGL</td>\n",
       "      <td>chr1:100028729-100029229</td>\n",
       "      <td>0.000778</td>\n",
       "      <td>0.000039</td>\n",
       "      <td>0.991619</td>\n",
       "    </tr>\n",
       "    <tr>\n",
       "      <th>1</th>\n",
       "      <td>ATF6B</td>\n",
       "      <td>AGL</td>\n",
       "      <td>chr1:100028729-100029229</td>\n",
       "      <td>0.000353</td>\n",
       "      <td>0.000039</td>\n",
       "      <td>0.980047</td>\n",
       "    </tr>\n",
       "    <tr>\n",
       "      <th>2</th>\n",
       "      <td>CENPB</td>\n",
       "      <td>AGL</td>\n",
       "      <td>chr1:100028729-100029229</td>\n",
       "      <td>0.000352</td>\n",
       "      <td>0.000039</td>\n",
       "      <td>0.770478</td>\n",
       "    </tr>\n",
       "    <tr>\n",
       "      <th>3</th>\n",
       "      <td>GLIS3</td>\n",
       "      <td>AGL</td>\n",
       "      <td>chr1:100028729-100029229</td>\n",
       "      <td>0.000735</td>\n",
       "      <td>0.000039</td>\n",
       "      <td>0.741424</td>\n",
       "    </tr>\n",
       "    <tr>\n",
       "      <th>4</th>\n",
       "      <td>GZF1</td>\n",
       "      <td>AGL</td>\n",
       "      <td>chr1:100028729-100029229</td>\n",
       "      <td>0.000345</td>\n",
       "      <td>0.000039</td>\n",
       "      <td>0.755783</td>\n",
       "    </tr>\n",
       "    <tr>\n",
       "      <th>...</th>\n",
       "      <td>...</td>\n",
       "      <td>...</td>\n",
       "      <td>...</td>\n",
       "      <td>...</td>\n",
       "      <td>...</td>\n",
       "      <td>...</td>\n",
       "    </tr>\n",
       "    <tr>\n",
       "      <th>35643809</th>\n",
       "      <td>ZBTB16</td>\n",
       "      <td>WWC3</td>\n",
       "      <td>chrX:9995709-9996209</td>\n",
       "      <td>0.005868</td>\n",
       "      <td>0.000087</td>\n",
       "      <td>0.560788</td>\n",
       "    </tr>\n",
       "    <tr>\n",
       "      <th>35643810</th>\n",
       "      <td>CENPB</td>\n",
       "      <td>WWC3</td>\n",
       "      <td>chrX:9997469-9997969</td>\n",
       "      <td>0.005445</td>\n",
       "      <td>0.000037</td>\n",
       "      <td>0.239576</td>\n",
       "    </tr>\n",
       "    <tr>\n",
       "      <th>35643811</th>\n",
       "      <td>EWSR1</td>\n",
       "      <td>WWC3</td>\n",
       "      <td>chrX:9997469-9997969</td>\n",
       "      <td>0.005964</td>\n",
       "      <td>0.000037</td>\n",
       "      <td>-0.026696</td>\n",
       "    </tr>\n",
       "    <tr>\n",
       "      <th>35643812</th>\n",
       "      <td>TOPORS</td>\n",
       "      <td>WWC3</td>\n",
       "      <td>chrX:9997469-9997969</td>\n",
       "      <td>0.012320</td>\n",
       "      <td>0.000037</td>\n",
       "      <td>-0.197943</td>\n",
       "    </tr>\n",
       "    <tr>\n",
       "      <th>35643813</th>\n",
       "      <td>ZBTB16</td>\n",
       "      <td>WWC3</td>\n",
       "      <td>chrX:9997469-9997969</td>\n",
       "      <td>0.005868</td>\n",
       "      <td>0.000037</td>\n",
       "      <td>0.252543</td>\n",
       "    </tr>\n",
       "  </tbody>\n",
       "</table>\n",
       "<p>35643814 rows × 6 columns</p>\n",
       "</div>"
      ],
      "text/plain": [
       "              TF  Gene                    Region  tf_tg_score  tg_re_score  \\\n",
       "0           ATF6   AGL  chr1:100028729-100029229     0.000778     0.000039   \n",
       "1          ATF6B   AGL  chr1:100028729-100029229     0.000353     0.000039   \n",
       "2          CENPB   AGL  chr1:100028729-100029229     0.000352     0.000039   \n",
       "3          GLIS3   AGL  chr1:100028729-100029229     0.000735     0.000039   \n",
       "4           GZF1   AGL  chr1:100028729-100029229     0.000345     0.000039   \n",
       "...          ...   ...                       ...          ...          ...   \n",
       "35643809  ZBTB16  WWC3      chrX:9995709-9996209     0.005868     0.000087   \n",
       "35643810   CENPB  WWC3      chrX:9997469-9997969     0.005445     0.000037   \n",
       "35643811   EWSR1  WWC3      chrX:9997469-9997969     0.005964     0.000037   \n",
       "35643812  TOPORS  WWC3      chrX:9997469-9997969     0.012320     0.000037   \n",
       "35643813  ZBTB16  WWC3      chrX:9997469-9997969     0.005868     0.000037   \n",
       "\n",
       "          tf_re_score  \n",
       "0            0.991619  \n",
       "1            0.980047  \n",
       "2            0.770478  \n",
       "3            0.741424  \n",
       "4            0.755783  \n",
       "...               ...  \n",
       "35643809     0.560788  \n",
       "35643810     0.239576  \n",
       "35643811    -0.026696  \n",
       "35643812    -0.197943  \n",
       "35643813     0.252543  \n",
       "\n",
       "[35643814 rows x 6 columns]"
      ]
     },
     "execution_count": 9,
     "metadata": {},
     "output_type": "execute_result"
    }
   ],
   "source": [
    "mdata.uns['grn']"
   ]
  },
  {
   "cell_type": "code",
   "execution_count": 10,
   "id": "59a931a4",
   "metadata": {},
   "outputs": [
    {
     "data": {
      "text/plain": [
       "np.int64(68019)"
      ]
     },
     "execution_count": 10,
     "metadata": {},
     "output_type": "execute_result"
    }
   ],
   "source": [
    "(mdata.uns['grn']['tf_re_score'] < 0 ).sum()"
   ]
  },
  {
   "cell_type": "code",
   "execution_count": 4,
   "id": "eacab99a",
   "metadata": {},
   "outputs": [
    {
     "name": "stderr",
     "output_type": "stream",
     "text": [
      "/home/andrem/GRN-project/workflow/.snakemake/conda/28579784a80abe1728951ef551e7dea0_/lib/python3.10/site-packages/mudata/_core/mudata.py:1531: FutureWarning: From 0.4 .update() will not pull obs/var columns from individual modalities by default anymore. Set mudata.set_options(pull_on_update=False) to adopt the new behaviour, which will become the default. Use new pull_obs/pull_var and push_obs/push_var methods for more flexibility.\n",
      "  self._update_attr(\"var\", axis=0, join_common=join_common)\n",
      "/home/andrem/GRN-project/workflow/.snakemake/conda/28579784a80abe1728951ef551e7dea0_/lib/python3.10/site-packages/mudata/_core/mudata.py:1429: FutureWarning: From 0.4 .update() will not pull obs/var columns from individual modalities by default anymore. Set mudata.set_options(pull_on_update=False) to adopt the new behaviour, which will become the default. Use new pull_obs/pull_var and push_obs/push_var methods for more flexibility.\n",
      "  self._update_attr(\"obs\", axis=1, join_common=join_common)\n",
      "/home/andrem/GRN-project/workflow/.snakemake/conda/28579784a80abe1728951ef551e7dea0_/lib/python3.10/site-packages/mudata/_core/mudata.py:1531: FutureWarning: From 0.4 .update() will not pull obs/var columns from individual modalities by default anymore. Set mudata.set_options(pull_on_update=False) to adopt the new behaviour, which will become the default. Use new pull_obs/pull_var and push_obs/push_var methods for more flexibility.\n",
      "  self._update_attr(\"var\", axis=0, join_common=join_common)\n",
      "/home/andrem/GRN-project/workflow/.snakemake/conda/28579784a80abe1728951ef551e7dea0_/lib/python3.10/site-packages/mudata/_core/mudata.py:1429: FutureWarning: From 0.4 .update() will not pull obs/var columns from individual modalities by default anymore. Set mudata.set_options(pull_on_update=False) to adopt the new behaviour, which will become the default. Use new pull_obs/pull_var and push_obs/push_var methods for more flexibility.\n",
      "  self._update_attr(\"obs\", axis=1, join_common=join_common)\n",
      "/home/andrem/GRN-project/workflow/.snakemake/conda/28579784a80abe1728951ef551e7dea0_/lib/python3.10/site-packages/mudata/_core/mudata.py:1531: FutureWarning: From 0.4 .update() will not pull obs/var columns from individual modalities by default anymore. Set mudata.set_options(pull_on_update=False) to adopt the new behaviour, which will become the default. Use new pull_obs/pull_var and push_obs/push_var methods for more flexibility.\n",
      "  self._update_attr(\"var\", axis=0, join_common=join_common)\n",
      "/home/andrem/GRN-project/workflow/.snakemake/conda/28579784a80abe1728951ef551e7dea0_/lib/python3.10/site-packages/mudata/_core/mudata.py:1429: FutureWarning: From 0.4 .update() will not pull obs/var columns from individual modalities by default anymore. Set mudata.set_options(pull_on_update=False) to adopt the new behaviour, which will become the default. Use new pull_obs/pull_var and push_obs/push_var methods for more flexibility.\n",
      "  self._update_attr(\"obs\", axis=1, join_common=join_common)\n"
     ]
    }
   ],
   "source": [
    "import mudata as mu\n",
    "import anndata as ad\n",
    "\n",
    "# Load existing MuData object\n",
    "mdata = mu.read(\"/data/tmpA/andrem/linger/GRN_final_mudata.h5mu\")\n",
    "\n",
    "# Paths to your RNA and ATAC .h5ad files\n",
    "rna_path = \"/data/tmpA/andrem/linger/out/AML12_DX_MO_scdart/tmp/linger_wrk/data/adata_RNA.h5ad\"\n",
    "atac_path = \"/data/tmpA/andrem/linger/out/AML12_DX_MO_scdart/tmp/linger_wrk/data/adata_ATAC.h5ad\"\n",
    "\n",
    "# Load each modality\n",
    "adata_rna = ad.read_h5ad(rna_path)\n",
    "adata_atac = ad.read_h5ad(atac_path)\n",
    "\n",
    "# Optional: ensure matching observation indices if needed\n",
    "# adata_atac = adata_atac[adata_rna.obs_names]\n",
    "\n",
    "# Create a new MuData object with both modalities\n",
    "mdata_new = mu.MuData({'rna': adata_rna, 'atac': adata_atac})\n",
    "# Add the GRN data to the MuData object\n",
    "mdata_new.uns['grn'] = mdata.uns['grn']\n",
    "\n",
    "# Save if desired\n",
    "mdata_new.write(\"/data/tmpA/andrem/linger/out/AML12_DX_MO_scdart/mudata.h5mu\")\n"
   ]
  },
  {
   "cell_type": "code",
   "execution_count": 24,
   "id": "d782c38b",
   "metadata": {},
   "outputs": [],
   "source": [
    "import anndata as ad\n",
    "meta = ad.read_h5ad(\"/data/benchmarks/andrem/input_rna/AML12_DX_MO_scbridge_filtered.h5ad\")"
   ]
  },
  {
   "cell_type": "code",
   "execution_count": 1,
   "id": "e8160ac3",
   "metadata": {},
   "outputs": [
    {
     "name": "stderr",
     "output_type": "stream",
     "text": [
      "/home/andrem/GRN-project/workflow/.snakemake/conda/28579784a80abe1728951ef551e7dea0_/lib/python3.10/site-packages/mudata/_core/mudata.py:1531: FutureWarning: From 0.4 .update() will not pull obs/var columns from individual modalities by default anymore. Set mudata.set_options(pull_on_update=False) to adopt the new behaviour, which will become the default. Use new pull_obs/pull_var and push_obs/push_var methods for more flexibility.\n",
      "  self._update_attr(\"var\", axis=0, join_common=join_common)\n",
      "/home/andrem/GRN-project/workflow/.snakemake/conda/28579784a80abe1728951ef551e7dea0_/lib/python3.10/site-packages/mudata/_core/mudata.py:1429: FutureWarning: From 0.4 .update() will not pull obs/var columns from individual modalities by default anymore. Set mudata.set_options(pull_on_update=False) to adopt the new behaviour, which will become the default. Use new pull_obs/pull_var and push_obs/push_var methods for more flexibility.\n",
      "  self._update_attr(\"obs\", axis=1, join_common=join_common)\n"
     ]
    }
   ],
   "source": [
    "import mudata as mu\n",
    "md = mu.read(\"/data/tmpA/andrem/celloracle/out/AML12_REL_MO_scbridge_with_atac/mdata.h5mu\")"
   ]
  },
  {
   "cell_type": "code",
   "execution_count": 2,
   "id": "92923c0d",
   "metadata": {},
   "outputs": [],
   "source": [
    "import pandas as pd\n",
    "SCORE_COL = \"Score\"\n",
    "TF2GENE_W_COL = \"TF2Gene_W\"\n",
    "import numpy as np\n",
    "def preprocess_celloracle(mudata):\n",
    "    \"\"\"\n",
    "    Preprocess CellOracle MuData to extract GRN matrix.\n",
    "    Assumes the GRN is stored in the 'links' attribute of the MuData object.\n",
    "    \"\"\"\n",
    "\n",
    "    grn = pd.DataFrame(mudata.uns['celloracle_links'])\n",
    "\n",
    "    # Clean the -logp column before normalization\n",
    "    grn[\"-logp\"] = grn[\"-logp\"].replace([np.inf, -np.inf], np.nan)\n",
    "    grn[\"-logp\"] = grn[\"-logp\"].fillna(0)\n",
    "\n",
    "    # Optional: coerce -0.0 → 0.0 for cosmetic + numeric sanity\n",
    "    grn[\"-logp\"] = grn[\"-logp\"].apply(lambda x: 0.0 if x == 0 else x)\n",
    "\n",
    "    min_logp = grn[\"-logp\"].min()\n",
    "    max_logp = grn[\"-logp\"].max()\n",
    "\n",
    "    if max_logp != min_logp:\n",
    "        grn[SCORE_COL] = (grn[\"-logp\"] - min_logp) / (max_logp - min_logp)\n",
    "    else:\n",
    "        grn[SCORE_COL] = 0.0\n",
    "\n",
    "    raw_score = grn[\"coef_mean\"] * grn[\"-logp\"]\n",
    "    grn[TF2GENE_W_COL] = np.tanh(3 * raw_score)\n",
    "\n",
    "    grn[\"Region\"] = grn[\"chromosome\"] + \":\" + grn[\"start\"].astype(str) + \"-\" + grn[\"end\"].astype(str)\n",
    "\n",
    "    grn = grn.rename(columns={\n",
    "    \"source\": \"TF\",\n",
    "    \"target\": \"Gene\",\n",
    "    \"chromosome\": \"Chromosome\",\n",
    "    \"start\": \"Start\",\n",
    "    \"end\": \"End\"\n",
    "    })\n",
    "\n",
    "    return grn"
   ]
  },
  {
   "cell_type": "code",
   "execution_count": 4,
   "id": "cc103035",
   "metadata": {},
   "outputs": [],
   "source": [
    "grn = preprocess_celloracle(md)"
   ]
  },
  {
   "cell_type": "code",
   "execution_count": 13,
   "id": "a1219ae1",
   "metadata": {},
   "outputs": [
    {
     "data": {
      "text/plain": [
       "np.int64(0)"
      ]
     },
     "execution_count": 13,
     "metadata": {},
     "output_type": "execute_result"
    }
   ],
   "source": [
    "grn['TF2Gene_W'].isna().sum()"
   ]
  },
  {
   "cell_type": "code",
   "execution_count": null,
   "id": "576f16f1",
   "metadata": {},
   "outputs": [],
   "source": []
  }
 ],
 "metadata": {
  "kernelspec": {
   "display_name": "Python 3",
   "language": "python",
   "name": "python3"
  },
  "language_info": {
   "codemirror_mode": {
    "name": "ipython",
    "version": 3
   },
   "file_extension": ".py",
   "mimetype": "text/x-python",
   "name": "python",
   "nbconvert_exporter": "python",
   "pygments_lexer": "ipython3",
   "version": "3.10.18"
  }
 },
 "nbformat": 4,
 "nbformat_minor": 5
}
